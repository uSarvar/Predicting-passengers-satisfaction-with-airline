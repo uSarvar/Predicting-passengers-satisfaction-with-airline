{
  "nbformat": 4,
  "nbformat_minor": 0,
  "metadata": {
    "colab": {
      "provenance": [],
      "authorship_tag": "ABX9TyMXjgvtV3kriupeOzQ3ngx+",
      "include_colab_link": true
    },
    "kernelspec": {
      "name": "python3",
      "display_name": "Python 3"
    },
    "language_info": {
      "name": "python"
    }
  },
  "cells": [
    {
      "cell_type": "markdown",
      "metadata": {
        "id": "view-in-github",
        "colab_type": "text"
      },
      "source": [
        "<a href=\"https://colab.research.google.com/github/uSarvar/Task-2-Prediction-airline-passengers-satisfaction/blob/main/2_task_(Airline_passenger_satisfaction).ipynb\" target=\"_parent\"><img src=\"https://colab.research.google.com/assets/colab-badge.svg\" alt=\"Open In Colab\"/></a>"
      ]
    },
    {
      "cell_type": "code",
      "execution_count": null,
      "metadata": {
        "id": "faRRpbeyC7vY"
      },
      "outputs": [],
      "source": [
        "import numpy as np\n",
        "import pandas as pd\n",
        "import sklearn \n",
        "import matplotlib.pyplot as plt\n",
        "%matplotlib inline\n",
        "import seaborn as sns\n",
        "\n",
        "from sklearn.model_selection import train_test_split, StratifiedShuffleSplit\n",
        "from sklearn.impute import SimpleImputer\n",
        "from sklearn.preprocessing import MinMaxScaler, StandardScaler\n",
        "from sklearn.base import BaseEstimator, TransformerMixin\n",
        "from sklearn.pipeline import Pipeline\n",
        "from sklearn.linear_model import LinearRegression\n",
        "from sklearn.tree import DecisionTreeRegressor\n",
        "from sklearn.ensemble import RandomForestRegressor\n",
        "\n",
        "from sklearn.metrics import mean_squared_error"
      ]
    },
    {
      "cell_type": "code",
      "source": [
        "df = pd.read_csv('/content/train_dataset.csv')\n",
        "df"
      ],
      "metadata": {
        "colab": {
          "base_uri": "https://localhost:8080/",
          "height": 713
        },
        "id": "BWJX_XMTGM6z",
        "outputId": "9adb0665-d0bd-4a43-c30b-176a3dfeef29"
      },
      "execution_count": null,
      "outputs": [
        {
          "output_type": "execute_result",
          "data": {
            "text/plain": [
              "         id  Gender      Customer Type  Age   Type of Travel     Class  \\\n",
              "0         1    Male  disloyal Customer   33  Business travel       Eco   \n",
              "1         2  Female     Loyal Customer   49  Business travel  Business   \n",
              "2         3  Female     Loyal Customer   43  Business travel       Eco   \n",
              "3         4  Female     Loyal Customer   27  Business travel  Business   \n",
              "4         5    Male     Loyal Customer   11  Personal Travel       Eco   \n",
              "...     ...     ...                ...  ...              ...       ...   \n",
              "9995   9996  Female     Loyal Customer   54  Personal Travel       Eco   \n",
              "9996   9997  Female     Loyal Customer   54  Business travel  Eco Plus   \n",
              "9997   9998    Male     Loyal Customer   46  Business travel  Business   \n",
              "9998   9999  Female     Loyal Customer   41  Business travel  Business   \n",
              "9999  10000    Male     Loyal Customer   41  Business travel  Business   \n",
              "\n",
              "      Flight Distance  Inflight wifi service  \\\n",
              "0                 571                      2   \n",
              "1                1431                      4   \n",
              "2                 867                      1   \n",
              "3                1550                      3   \n",
              "4                 526                      3   \n",
              "...               ...                    ...   \n",
              "9995             1068                      1   \n",
              "9996             1399                      4   \n",
              "9997             1440                      3   \n",
              "9998               90                      4   \n",
              "9999             1747                      3   \n",
              "\n",
              "      Departure/Arrival time convenient  Ease of Online booking  ...  \\\n",
              "0                                     3                       2  ...   \n",
              "1                                     1                       4  ...   \n",
              "2                                     4                       4  ...   \n",
              "3                                     3                       3  ...   \n",
              "4                                     4                       3  ...   \n",
              "...                                 ...                     ...  ...   \n",
              "9995                                  4                       1  ...   \n",
              "9996                                  1                       1  ...   \n",
              "9997                                  3                       2  ...   \n",
              "9998                                  1                       4  ...   \n",
              "9999                                  3                       3  ...   \n",
              "\n",
              "      Inflight entertainment  On-board service  Leg room service  \\\n",
              "0                          4                 3                 1   \n",
              "1                          5                 5                 5   \n",
              "2                          1                 1                 1   \n",
              "3                          2                 4                 4   \n",
              "4                          4                 5                 2   \n",
              "...                      ...               ...               ...   \n",
              "9995                       4                 4                 1   \n",
              "9996                       4                 4                 4   \n",
              "9997                       4                 4                 4   \n",
              "9998                       3                 4                 5   \n",
              "9999                       4                 4                 4   \n",
              "\n",
              "      Baggage handling  Checkin service  Inflight service  Cleanliness  \\\n",
              "0                    3                4                 3            4   \n",
              "1                    5                3                 5            3   \n",
              "2                    1                1                 1            2   \n",
              "3                    5                5                 4            2   \n",
              "4                    5                3                 5            4   \n",
              "...                ...              ...               ...          ...   \n",
              "9995                 4                4                 4            3   \n",
              "9996                 4                1                 4            4   \n",
              "9997                 4                3                 4            3   \n",
              "9998                 5                5                 4            5   \n",
              "9999                 4                3                 4            5   \n",
              "\n",
              "      Departure Delay in Minutes  Arrival Delay in Minutes  satisfaction  \n",
              "0                             10                       3.0             0  \n",
              "1                              0                       0.0             1  \n",
              "2                              0                      18.0             0  \n",
              "3                              0                       0.0             1  \n",
              "4                              0                      10.0             0  \n",
              "...                          ...                       ...           ...  \n",
              "9995                          21                      12.0             0  \n",
              "9996                          34                      21.0             0  \n",
              "9997                          37                      38.0             1  \n",
              "9998                          64                     210.0             1  \n",
              "9999                           2                       0.0             1  \n",
              "\n",
              "[10000 rows x 24 columns]"
            ],
            "text/html": [
              "\n",
              "  <div id=\"df-cb2c5086-2ef9-4441-9d0a-74b755218d2c\">\n",
              "    <div class=\"colab-df-container\">\n",
              "      <div>\n",
              "<style scoped>\n",
              "    .dataframe tbody tr th:only-of-type {\n",
              "        vertical-align: middle;\n",
              "    }\n",
              "\n",
              "    .dataframe tbody tr th {\n",
              "        vertical-align: top;\n",
              "    }\n",
              "\n",
              "    .dataframe thead th {\n",
              "        text-align: right;\n",
              "    }\n",
              "</style>\n",
              "<table border=\"1\" class=\"dataframe\">\n",
              "  <thead>\n",
              "    <tr style=\"text-align: right;\">\n",
              "      <th></th>\n",
              "      <th>id</th>\n",
              "      <th>Gender</th>\n",
              "      <th>Customer Type</th>\n",
              "      <th>Age</th>\n",
              "      <th>Type of Travel</th>\n",
              "      <th>Class</th>\n",
              "      <th>Flight Distance</th>\n",
              "      <th>Inflight wifi service</th>\n",
              "      <th>Departure/Arrival time convenient</th>\n",
              "      <th>Ease of Online booking</th>\n",
              "      <th>...</th>\n",
              "      <th>Inflight entertainment</th>\n",
              "      <th>On-board service</th>\n",
              "      <th>Leg room service</th>\n",
              "      <th>Baggage handling</th>\n",
              "      <th>Checkin service</th>\n",
              "      <th>Inflight service</th>\n",
              "      <th>Cleanliness</th>\n",
              "      <th>Departure Delay in Minutes</th>\n",
              "      <th>Arrival Delay in Minutes</th>\n",
              "      <th>satisfaction</th>\n",
              "    </tr>\n",
              "  </thead>\n",
              "  <tbody>\n",
              "    <tr>\n",
              "      <th>0</th>\n",
              "      <td>1</td>\n",
              "      <td>Male</td>\n",
              "      <td>disloyal Customer</td>\n",
              "      <td>33</td>\n",
              "      <td>Business travel</td>\n",
              "      <td>Eco</td>\n",
              "      <td>571</td>\n",
              "      <td>2</td>\n",
              "      <td>3</td>\n",
              "      <td>2</td>\n",
              "      <td>...</td>\n",
              "      <td>4</td>\n",
              "      <td>3</td>\n",
              "      <td>1</td>\n",
              "      <td>3</td>\n",
              "      <td>4</td>\n",
              "      <td>3</td>\n",
              "      <td>4</td>\n",
              "      <td>10</td>\n",
              "      <td>3.0</td>\n",
              "      <td>0</td>\n",
              "    </tr>\n",
              "    <tr>\n",
              "      <th>1</th>\n",
              "      <td>2</td>\n",
              "      <td>Female</td>\n",
              "      <td>Loyal Customer</td>\n",
              "      <td>49</td>\n",
              "      <td>Business travel</td>\n",
              "      <td>Business</td>\n",
              "      <td>1431</td>\n",
              "      <td>4</td>\n",
              "      <td>1</td>\n",
              "      <td>4</td>\n",
              "      <td>...</td>\n",
              "      <td>5</td>\n",
              "      <td>5</td>\n",
              "      <td>5</td>\n",
              "      <td>5</td>\n",
              "      <td>3</td>\n",
              "      <td>5</td>\n",
              "      <td>3</td>\n",
              "      <td>0</td>\n",
              "      <td>0.0</td>\n",
              "      <td>1</td>\n",
              "    </tr>\n",
              "    <tr>\n",
              "      <th>2</th>\n",
              "      <td>3</td>\n",
              "      <td>Female</td>\n",
              "      <td>Loyal Customer</td>\n",
              "      <td>43</td>\n",
              "      <td>Business travel</td>\n",
              "      <td>Eco</td>\n",
              "      <td>867</td>\n",
              "      <td>1</td>\n",
              "      <td>4</td>\n",
              "      <td>4</td>\n",
              "      <td>...</td>\n",
              "      <td>1</td>\n",
              "      <td>1</td>\n",
              "      <td>1</td>\n",
              "      <td>1</td>\n",
              "      <td>1</td>\n",
              "      <td>1</td>\n",
              "      <td>2</td>\n",
              "      <td>0</td>\n",
              "      <td>18.0</td>\n",
              "      <td>0</td>\n",
              "    </tr>\n",
              "    <tr>\n",
              "      <th>3</th>\n",
              "      <td>4</td>\n",
              "      <td>Female</td>\n",
              "      <td>Loyal Customer</td>\n",
              "      <td>27</td>\n",
              "      <td>Business travel</td>\n",
              "      <td>Business</td>\n",
              "      <td>1550</td>\n",
              "      <td>3</td>\n",
              "      <td>3</td>\n",
              "      <td>3</td>\n",
              "      <td>...</td>\n",
              "      <td>2</td>\n",
              "      <td>4</td>\n",
              "      <td>4</td>\n",
              "      <td>5</td>\n",
              "      <td>5</td>\n",
              "      <td>4</td>\n",
              "      <td>2</td>\n",
              "      <td>0</td>\n",
              "      <td>0.0</td>\n",
              "      <td>1</td>\n",
              "    </tr>\n",
              "    <tr>\n",
              "      <th>4</th>\n",
              "      <td>5</td>\n",
              "      <td>Male</td>\n",
              "      <td>Loyal Customer</td>\n",
              "      <td>11</td>\n",
              "      <td>Personal Travel</td>\n",
              "      <td>Eco</td>\n",
              "      <td>526</td>\n",
              "      <td>3</td>\n",
              "      <td>4</td>\n",
              "      <td>3</td>\n",
              "      <td>...</td>\n",
              "      <td>4</td>\n",
              "      <td>5</td>\n",
              "      <td>2</td>\n",
              "      <td>5</td>\n",
              "      <td>3</td>\n",
              "      <td>5</td>\n",
              "      <td>4</td>\n",
              "      <td>0</td>\n",
              "      <td>10.0</td>\n",
              "      <td>0</td>\n",
              "    </tr>\n",
              "    <tr>\n",
              "      <th>...</th>\n",
              "      <td>...</td>\n",
              "      <td>...</td>\n",
              "      <td>...</td>\n",
              "      <td>...</td>\n",
              "      <td>...</td>\n",
              "      <td>...</td>\n",
              "      <td>...</td>\n",
              "      <td>...</td>\n",
              "      <td>...</td>\n",
              "      <td>...</td>\n",
              "      <td>...</td>\n",
              "      <td>...</td>\n",
              "      <td>...</td>\n",
              "      <td>...</td>\n",
              "      <td>...</td>\n",
              "      <td>...</td>\n",
              "      <td>...</td>\n",
              "      <td>...</td>\n",
              "      <td>...</td>\n",
              "      <td>...</td>\n",
              "      <td>...</td>\n",
              "    </tr>\n",
              "    <tr>\n",
              "      <th>9995</th>\n",
              "      <td>9996</td>\n",
              "      <td>Female</td>\n",
              "      <td>Loyal Customer</td>\n",
              "      <td>54</td>\n",
              "      <td>Personal Travel</td>\n",
              "      <td>Eco</td>\n",
              "      <td>1068</td>\n",
              "      <td>1</td>\n",
              "      <td>4</td>\n",
              "      <td>1</td>\n",
              "      <td>...</td>\n",
              "      <td>4</td>\n",
              "      <td>4</td>\n",
              "      <td>1</td>\n",
              "      <td>4</td>\n",
              "      <td>4</td>\n",
              "      <td>4</td>\n",
              "      <td>3</td>\n",
              "      <td>21</td>\n",
              "      <td>12.0</td>\n",
              "      <td>0</td>\n",
              "    </tr>\n",
              "    <tr>\n",
              "      <th>9996</th>\n",
              "      <td>9997</td>\n",
              "      <td>Female</td>\n",
              "      <td>Loyal Customer</td>\n",
              "      <td>54</td>\n",
              "      <td>Business travel</td>\n",
              "      <td>Eco Plus</td>\n",
              "      <td>1399</td>\n",
              "      <td>4</td>\n",
              "      <td>1</td>\n",
              "      <td>1</td>\n",
              "      <td>...</td>\n",
              "      <td>4</td>\n",
              "      <td>4</td>\n",
              "      <td>4</td>\n",
              "      <td>4</td>\n",
              "      <td>1</td>\n",
              "      <td>4</td>\n",
              "      <td>4</td>\n",
              "      <td>34</td>\n",
              "      <td>21.0</td>\n",
              "      <td>0</td>\n",
              "    </tr>\n",
              "    <tr>\n",
              "      <th>9997</th>\n",
              "      <td>9998</td>\n",
              "      <td>Male</td>\n",
              "      <td>Loyal Customer</td>\n",
              "      <td>46</td>\n",
              "      <td>Business travel</td>\n",
              "      <td>Business</td>\n",
              "      <td>1440</td>\n",
              "      <td>3</td>\n",
              "      <td>3</td>\n",
              "      <td>2</td>\n",
              "      <td>...</td>\n",
              "      <td>4</td>\n",
              "      <td>4</td>\n",
              "      <td>4</td>\n",
              "      <td>4</td>\n",
              "      <td>3</td>\n",
              "      <td>4</td>\n",
              "      <td>3</td>\n",
              "      <td>37</td>\n",
              "      <td>38.0</td>\n",
              "      <td>1</td>\n",
              "    </tr>\n",
              "    <tr>\n",
              "      <th>9998</th>\n",
              "      <td>9999</td>\n",
              "      <td>Female</td>\n",
              "      <td>Loyal Customer</td>\n",
              "      <td>41</td>\n",
              "      <td>Business travel</td>\n",
              "      <td>Business</td>\n",
              "      <td>90</td>\n",
              "      <td>4</td>\n",
              "      <td>1</td>\n",
              "      <td>4</td>\n",
              "      <td>...</td>\n",
              "      <td>3</td>\n",
              "      <td>4</td>\n",
              "      <td>5</td>\n",
              "      <td>5</td>\n",
              "      <td>5</td>\n",
              "      <td>4</td>\n",
              "      <td>5</td>\n",
              "      <td>64</td>\n",
              "      <td>210.0</td>\n",
              "      <td>1</td>\n",
              "    </tr>\n",
              "    <tr>\n",
              "      <th>9999</th>\n",
              "      <td>10000</td>\n",
              "      <td>Male</td>\n",
              "      <td>Loyal Customer</td>\n",
              "      <td>41</td>\n",
              "      <td>Business travel</td>\n",
              "      <td>Business</td>\n",
              "      <td>1747</td>\n",
              "      <td>3</td>\n",
              "      <td>3</td>\n",
              "      <td>3</td>\n",
              "      <td>...</td>\n",
              "      <td>4</td>\n",
              "      <td>4</td>\n",
              "      <td>4</td>\n",
              "      <td>4</td>\n",
              "      <td>3</td>\n",
              "      <td>4</td>\n",
              "      <td>5</td>\n",
              "      <td>2</td>\n",
              "      <td>0.0</td>\n",
              "      <td>1</td>\n",
              "    </tr>\n",
              "  </tbody>\n",
              "</table>\n",
              "<p>10000 rows × 24 columns</p>\n",
              "</div>\n",
              "      <button class=\"colab-df-convert\" onclick=\"convertToInteractive('df-cb2c5086-2ef9-4441-9d0a-74b755218d2c')\"\n",
              "              title=\"Convert this dataframe to an interactive table.\"\n",
              "              style=\"display:none;\">\n",
              "        \n",
              "  <svg xmlns=\"http://www.w3.org/2000/svg\" height=\"24px\"viewBox=\"0 0 24 24\"\n",
              "       width=\"24px\">\n",
              "    <path d=\"M0 0h24v24H0V0z\" fill=\"none\"/>\n",
              "    <path d=\"M18.56 5.44l.94 2.06.94-2.06 2.06-.94-2.06-.94-.94-2.06-.94 2.06-2.06.94zm-11 1L8.5 8.5l.94-2.06 2.06-.94-2.06-.94L8.5 2.5l-.94 2.06-2.06.94zm10 10l.94 2.06.94-2.06 2.06-.94-2.06-.94-.94-2.06-.94 2.06-2.06.94z\"/><path d=\"M17.41 7.96l-1.37-1.37c-.4-.4-.92-.59-1.43-.59-.52 0-1.04.2-1.43.59L10.3 9.45l-7.72 7.72c-.78.78-.78 2.05 0 2.83L4 21.41c.39.39.9.59 1.41.59.51 0 1.02-.2 1.41-.59l7.78-7.78 2.81-2.81c.8-.78.8-2.07 0-2.86zM5.41 20L4 18.59l7.72-7.72 1.47 1.35L5.41 20z\"/>\n",
              "  </svg>\n",
              "      </button>\n",
              "      \n",
              "  <style>\n",
              "    .colab-df-container {\n",
              "      display:flex;\n",
              "      flex-wrap:wrap;\n",
              "      gap: 12px;\n",
              "    }\n",
              "\n",
              "    .colab-df-convert {\n",
              "      background-color: #E8F0FE;\n",
              "      border: none;\n",
              "      border-radius: 50%;\n",
              "      cursor: pointer;\n",
              "      display: none;\n",
              "      fill: #1967D2;\n",
              "      height: 32px;\n",
              "      padding: 0 0 0 0;\n",
              "      width: 32px;\n",
              "    }\n",
              "\n",
              "    .colab-df-convert:hover {\n",
              "      background-color: #E2EBFA;\n",
              "      box-shadow: 0px 1px 2px rgba(60, 64, 67, 0.3), 0px 1px 3px 1px rgba(60, 64, 67, 0.15);\n",
              "      fill: #174EA6;\n",
              "    }\n",
              "\n",
              "    [theme=dark] .colab-df-convert {\n",
              "      background-color: #3B4455;\n",
              "      fill: #D2E3FC;\n",
              "    }\n",
              "\n",
              "    [theme=dark] .colab-df-convert:hover {\n",
              "      background-color: #434B5C;\n",
              "      box-shadow: 0px 1px 3px 1px rgba(0, 0, 0, 0.15);\n",
              "      filter: drop-shadow(0px 1px 2px rgba(0, 0, 0, 0.3));\n",
              "      fill: #FFFFFF;\n",
              "    }\n",
              "  </style>\n",
              "\n",
              "      <script>\n",
              "        const buttonEl =\n",
              "          document.querySelector('#df-cb2c5086-2ef9-4441-9d0a-74b755218d2c button.colab-df-convert');\n",
              "        buttonEl.style.display =\n",
              "          google.colab.kernel.accessAllowed ? 'block' : 'none';\n",
              "\n",
              "        async function convertToInteractive(key) {\n",
              "          const element = document.querySelector('#df-cb2c5086-2ef9-4441-9d0a-74b755218d2c');\n",
              "          const dataTable =\n",
              "            await google.colab.kernel.invokeFunction('convertToInteractive',\n",
              "                                                     [key], {});\n",
              "          if (!dataTable) return;\n",
              "\n",
              "          const docLinkHtml = 'Like what you see? Visit the ' +\n",
              "            '<a target=\"_blank\" href=https://colab.research.google.com/notebooks/data_table.ipynb>data table notebook</a>'\n",
              "            + ' to learn more about interactive tables.';\n",
              "          element.innerHTML = '';\n",
              "          dataTable['output_type'] = 'display_data';\n",
              "          await google.colab.output.renderOutput(dataTable, element);\n",
              "          const docLink = document.createElement('div');\n",
              "          docLink.innerHTML = docLinkHtml;\n",
              "          element.appendChild(docLink);\n",
              "        }\n",
              "      </script>\n",
              "    </div>\n",
              "  </div>\n",
              "  "
            ]
          },
          "metadata": {},
          "execution_count": 934
        }
      ]
    },
    {
      "cell_type": "code",
      "source": [
        "df.info()"
      ],
      "metadata": {
        "colab": {
          "base_uri": "https://localhost:8080/"
        },
        "id": "NXPovv4wGc2n",
        "outputId": "4f128756-fda4-4e70-d542-07295bf98c94"
      },
      "execution_count": null,
      "outputs": [
        {
          "output_type": "stream",
          "name": "stdout",
          "text": [
            "<class 'pandas.core.frame.DataFrame'>\n",
            "RangeIndex: 10000 entries, 0 to 9999\n",
            "Data columns (total 24 columns):\n",
            " #   Column                             Non-Null Count  Dtype  \n",
            "---  ------                             --------------  -----  \n",
            " 0   id                                 10000 non-null  int64  \n",
            " 1   Gender                             10000 non-null  object \n",
            " 2   Customer Type                      10000 non-null  object \n",
            " 3   Age                                10000 non-null  int64  \n",
            " 4   Type of Travel                     10000 non-null  object \n",
            " 5   Class                              10000 non-null  object \n",
            " 6   Flight Distance                    10000 non-null  int64  \n",
            " 7   Inflight wifi service              10000 non-null  int64  \n",
            " 8   Departure/Arrival time convenient  10000 non-null  int64  \n",
            " 9   Ease of Online booking             10000 non-null  int64  \n",
            " 10  Gate location                      10000 non-null  int64  \n",
            " 11  Food and drink                     10000 non-null  int64  \n",
            " 12  Online boarding                    10000 non-null  int64  \n",
            " 13  Seat comfort                       10000 non-null  int64  \n",
            " 14  Inflight entertainment             10000 non-null  int64  \n",
            " 15  On-board service                   10000 non-null  int64  \n",
            " 16  Leg room service                   10000 non-null  int64  \n",
            " 17  Baggage handling                   10000 non-null  int64  \n",
            " 18  Checkin service                    10000 non-null  int64  \n",
            " 19  Inflight service                   10000 non-null  int64  \n",
            " 20  Cleanliness                        10000 non-null  int64  \n",
            " 21  Departure Delay in Minutes         10000 non-null  int64  \n",
            " 22  Arrival Delay in Minutes           9972 non-null   float64\n",
            " 23  satisfaction                       10000 non-null  int64  \n",
            "dtypes: float64(1), int64(19), object(4)\n",
            "memory usage: 1.8+ MB\n"
          ]
        }
      ]
    },
    {
      "cell_type": "code",
      "source": [
        "df.hist(bins=50, figsize=(20,15))"
      ],
      "metadata": {
        "colab": {
          "base_uri": "https://localhost:8080/",
          "height": 1000
        },
        "id": "8AHVOymSH9EB",
        "outputId": "74fab36d-0b2b-424c-8e1f-71ebc2348f2b"
      },
      "execution_count": null,
      "outputs": [
        {
          "output_type": "execute_result",
          "data": {
            "text/plain": [
              "array([[<matplotlib.axes._subplots.AxesSubplot object at 0x7f3fee7134f0>,\n",
              "        <matplotlib.axes._subplots.AxesSubplot object at 0x7f3fedc6e4f0>,\n",
              "        <matplotlib.axes._subplots.AxesSubplot object at 0x7f3fedc29550>,\n",
              "        <matplotlib.axes._subplots.AxesSubplot object at 0x7f3fedc51c70>],\n",
              "       [<matplotlib.axes._subplots.AxesSubplot object at 0x7f3fedc023d0>,\n",
              "        <matplotlib.axes._subplots.AxesSubplot object at 0x7f3fedbaba30>,\n",
              "        <matplotlib.axes._subplots.AxesSubplot object at 0x7f3fedbabb20>,\n",
              "        <matplotlib.axes._subplots.AxesSubplot object at 0x7f3fedb652e0>],\n",
              "       [<matplotlib.axes._subplots.AxesSubplot object at 0x7f3fedb35160>,\n",
              "        <matplotlib.axes._subplots.AxesSubplot object at 0x7f3fedaea820>,\n",
              "        <matplotlib.axes._subplots.AxesSubplot object at 0x7f3fedb15f40>,\n",
              "        <matplotlib.axes._subplots.AxesSubplot object at 0x7f3fedaca670>],\n",
              "       [<matplotlib.axes._subplots.AxesSubplot object at 0x7f3feda76d90>,\n",
              "        <matplotlib.axes._subplots.AxesSubplot object at 0x7f3feda2b4f0>,\n",
              "        <matplotlib.axes._subplots.AxesSubplot object at 0x7f3feda55c10>,\n",
              "        <matplotlib.axes._subplots.AxesSubplot object at 0x7f3feda0d370>],\n",
              "       [<matplotlib.axes._subplots.AxesSubplot object at 0x7f3fed9b6a90>,\n",
              "        <matplotlib.axes._subplots.AxesSubplot object at 0x7f3fed9701f0>,\n",
              "        <matplotlib.axes._subplots.AxesSubplot object at 0x7f3fed99a910>,\n",
              "        <matplotlib.axes._subplots.AxesSubplot object at 0x7f3fed9420d0>]],\n",
              "      dtype=object)"
            ]
          },
          "metadata": {},
          "execution_count": 936
        },
        {
          "output_type": "display_data",
          "data": {
            "text/plain": [
              "<Figure size 1440x1080 with 20 Axes>"
            ],
            "image/png": "[encoded data removed]"
          },
          "metadata": {
            "needs_background": "light"
          }
        }
      ]
    },
    {
      "cell_type": "code",
      "source": [
        "df['Flight Distance'].hist(bins=50, figsize=(9,6))"
      ],
      "metadata": {
        "colab": {
          "base_uri": "https://localhost:8080/",
          "height": 391
        },
        "id": "uXxMBZrHX4B5",
        "outputId": "d68c80a1-330c-4e64-caab-b9c4e98b9a5f"
      },
      "execution_count": null,
      "outputs": [
        {
          "output_type": "execute_result",
          "data": {
            "text/plain": [
              "<matplotlib.axes._subplots.AxesSubplot at 0x7f3fed0dc220>"
            ]
          },
          "metadata": {},
          "execution_count": 937
        },
        {
          "output_type": "display_data",
          "data": {
            "text/plain": [
              "<Figure size 648x432 with 1 Axes>"
            ],
            "image/png": "[encoded data removed]"
          },
          "metadata": {
            "needs_background": "light"
          }
        }
      ]
    },
    {
      "cell_type": "code",
      "source": [
        "df['distance_cat'] = pd.cut(df['Flight Distance'], bins=[0., 1000.0, 2000.0, 3000.0, 4000.0, np.inf], labels=[1,2,3,4,5])\n",
        "df['distance_cat'].hist(figsize=(9,6))"
      ],
      "metadata": {
        "colab": {
          "base_uri": "https://localhost:8080/",
          "height": 391
        },
        "id": "YgAjik2tX5B6",
        "outputId": "de39f060-6088-4cf4-b66e-52372b245626"
      },
      "execution_count": null,
      "outputs": [
        {
          "output_type": "execute_result",
          "data": {
            "text/plain": [
              "<matplotlib.axes._subplots.AxesSubplot at 0x7f3fecbb7820>"
            ]
          },
          "metadata": {},
          "execution_count": 938
        },
        {
          "output_type": "display_data",
          "data": {
            "text/plain": [
              "<Figure size 648x432 with 1 Axes>"
            ],
            "image/png": "[encoded data removed]"
          },
          "metadata": {
            "needs_background": "light"
          }
        }
      ]
    },
    {
      "cell_type": "code",
      "source": [
        "# median_ad = df['Arrival Delay in Minutes'].median()\n",
        "# df['Arrival Delay in Minutes'].fillna(median_ad, inplace=True)"
      ],
      "metadata": {
        "id": "Z26k7RBxwUWs"
      },
      "execution_count": null,
      "outputs": []
    },
    {
      "cell_type": "code",
      "source": [
        "df.drop(['Arrival Delay in Minutes'], axis=1, inplace=True)"
      ],
      "metadata": {
        "id": "1XkyY0cE2VcE"
      },
      "execution_count": null,
      "outputs": []
    },
    {
      "cell_type": "code",
      "source": [
        "# df = df.astype({'Arrival Delay in Minutes': 'int64'})"
      ],
      "metadata": {
        "id": "A-gCRhDk1ecp"
      },
      "execution_count": null,
      "outputs": []
    },
    {
      "cell_type": "code",
      "source": [
        "cols = ['Gender','Customer Type','Type of Travel','Class']\n",
        "for i in cols:\n",
        "    print(df[i].unique())"
      ],
      "metadata": {
        "id": "C9sAjTZoHgLM",
        "colab": {
          "base_uri": "https://localhost:8080/"
        },
        "outputId": "a134410c-937d-4456-ea21-99ffc488f847"
      },
      "execution_count": null,
      "outputs": [
        {
          "output_type": "stream",
          "name": "stdout",
          "text": [
            "['Male' 'Female']\n",
            "['disloyal Customer' 'Loyal Customer']\n",
            "['Business travel' 'Personal Travel']\n",
            "['Eco' 'Business' 'Eco Plus']\n"
          ]
        }
      ]
    },
    {
      "cell_type": "code",
      "source": [
        "df.replace({'Female':0, 'Male':1}, inplace=True)\n",
        "df.replace({'disloyal Customer':0, 'Loyal Customer':1}, inplace=True)\n",
        "df.replace({'Business travel':0, 'Personal Travel':1}, inplace=True)\n",
        "df.replace({'Eco':0, 'Eco Plus':1, 'Business':2}, inplace=True)"
      ],
      "metadata": {
        "id": "_JXEd1jrrD2F"
      },
      "execution_count": null,
      "outputs": []
    },
    {
      "cell_type": "code",
      "source": [
        "train, test = train_test_split(df, test_size=0.2, random_state=33)"
      ],
      "metadata": {
        "id": "a7blty0NH9Bt"
      },
      "execution_count": null,
      "outputs": []
    },
    {
      "cell_type": "code",
      "source": [
        "strat_split = StratifiedShuffleSplit(n_splits=1, test_size=0.2, random_state=33)\n",
        "\n",
        "for train_index, test_index in strat_split.split(df,df['distance_cat']):\n",
        "    strat_train = df.loc[train_index]\n",
        "    strat_test = df.loc[test_index]\n",
        "\n",
        "strat_train.drop('distance_cat', axis=1, inplace=True)\n",
        "strat_test.drop('distance_cat', axis=1, inplace=True)"
      ],
      "metadata": {
        "id": "BJuNBD5cX4_Y"
      },
      "execution_count": null,
      "outputs": []
    },
    {
      "cell_type": "code",
      "source": [
        "strat_train.corrwith(strat_train['satisfaction']).abs().sort_values(ascending=False)"
      ],
      "metadata": {
        "colab": {
          "base_uri": "https://localhost:8080/"
        },
        "id": "birPQ9w9DHID",
        "outputId": "20f6670c-6028-4a78-c1dd-c2b54acffecb"
      },
      "execution_count": null,
      "outputs": [
        {
          "output_type": "execute_result",
          "data": {
            "text/plain": [
              "satisfaction                         1.000000\n",
              "Class                                0.527742\n",
              "Online boarding                      0.502644\n",
              "Type of Travel                       0.483603\n",
              "Inflight entertainment               0.398787\n",
              "Seat comfort                         0.346127\n",
              "On-board service                     0.328583\n",
              "Leg room service                     0.327294\n",
              "Cleanliness                          0.306683\n",
              "Flight Distance                      0.300172\n",
              "Inflight wifi service                0.274971\n",
              "Baggage handling                     0.250452\n",
              "Inflight service                     0.238177\n",
              "Checkin service                      0.229406\n",
              "Food and drink                       0.205826\n",
              "Customer Type                        0.184710\n",
              "Ease of Online booking               0.164337\n",
              "Age                                  0.144681\n",
              "Departure/Arrival time convenient    0.073458\n",
              "Departure Delay in Minutes           0.037366\n",
              "Gate location                        0.009902\n",
              "Gender                               0.008180\n",
              "id                                   0.001550\n",
              "dtype: float64"
            ]
          },
          "metadata": {},
          "execution_count": 946
        }
      ]
    },
    {
      "cell_type": "code",
      "source": [
        "# imputer = SimpleImputer(strategy=\"median\")\n",
        "# imputer.fit(sat)\n",
        "# X = imputer.transform(sat)"
      ],
      "metadata": {
        "id": "topAfStGwURs"
      },
      "execution_count": null,
      "outputs": []
    },
    {
      "cell_type": "code",
      "source": [
        "sns.catplot(data=strat_train, kind='bar', x='Online boarding', y='satisfaction', hue='Inflight entertainment', height=10)\n",
        "plt.grid()"
      ],
      "metadata": {
        "colab": {
          "base_uri": "https://localhost:8080/",
          "height": 729
        },
        "id": "QVUhZULtCCgX",
        "outputId": "1d4b7363-4a18-45b6-b674-4aeb06af5818"
      },
      "execution_count": null,
      "outputs": [
        {
          "output_type": "display_data",
          "data": {
            "text/plain": [
              "<Figure size 838.25x720 with 1 Axes>"
            ],
            "image/png": "[encoded data removed]"
          },
          "metadata": {
            "needs_background": "light"
          }
        }
      ]
    },
    {
      "cell_type": "code",
      "source": [
        "sns.catplot(data=strat_train, kind='bar', x='Gender', y='satisfaction', hue='Class', height=5)\n",
        "plt.grid()"
      ],
      "metadata": {
        "id": "xXX0jROPGO7s",
        "colab": {
          "base_uri": "https://localhost:8080/",
          "height": 369
        },
        "outputId": "398c8a27-9290-493a-e528-9430b1a345a7"
      },
      "execution_count": null,
      "outputs": [
        {
          "output_type": "display_data",
          "data": {
            "text/plain": [
              "<Figure size 402.375x360 with 1 Axes>"
            ],
            "image/png": "[encoded data removed]"
          },
          "metadata": {
            "needs_background": "light"
          }
        }
      ]
    },
    {
      "cell_type": "code",
      "source": [
        "sat = strat_train.copy()"
      ],
      "metadata": {
        "id": "QS_bsk2CBa0E"
      },
      "execution_count": null,
      "outputs": []
    },
    {
      "cell_type": "code",
      "source": [
        "sat.info()"
      ],
      "metadata": {
        "colab": {
          "base_uri": "https://localhost:8080/"
        },
        "id": "iJAigI_Q4rzd",
        "outputId": "9622dc12-db01-446e-e23d-e207701738b7"
      },
      "execution_count": null,
      "outputs": [
        {
          "output_type": "stream",
          "name": "stdout",
          "text": [
            "<class 'pandas.core.frame.DataFrame'>\n",
            "Int64Index: 8000 entries, 2183 to 2340\n",
            "Data columns (total 23 columns):\n",
            " #   Column                             Non-Null Count  Dtype\n",
            "---  ------                             --------------  -----\n",
            " 0   id                                 8000 non-null   int64\n",
            " 1   Gender                             8000 non-null   int64\n",
            " 2   Customer Type                      8000 non-null   int64\n",
            " 3   Age                                8000 non-null   int64\n",
            " 4   Type of Travel                     8000 non-null   int64\n",
            " 5   Class                              8000 non-null   int64\n",
            " 6   Flight Distance                    8000 non-null   int64\n",
            " 7   Inflight wifi service              8000 non-null   int64\n",
            " 8   Departure/Arrival time convenient  8000 non-null   int64\n",
            " 9   Ease of Online booking             8000 non-null   int64\n",
            " 10  Gate location                      8000 non-null   int64\n",
            " 11  Food and drink                     8000 non-null   int64\n",
            " 12  Online boarding                    8000 non-null   int64\n",
            " 13  Seat comfort                       8000 non-null   int64\n",
            " 14  Inflight entertainment             8000 non-null   int64\n",
            " 15  On-board service                   8000 non-null   int64\n",
            " 16  Leg room service                   8000 non-null   int64\n",
            " 17  Baggage handling                   8000 non-null   int64\n",
            " 18  Checkin service                    8000 non-null   int64\n",
            " 19  Inflight service                   8000 non-null   int64\n",
            " 20  Cleanliness                        8000 non-null   int64\n",
            " 21  Departure Delay in Minutes         8000 non-null   int64\n",
            " 22  satisfaction                       8000 non-null   int64\n",
            "dtypes: int64(23)\n",
            "memory usage: 1.7 MB\n"
          ]
        }
      ]
    },
    {
      "cell_type": "code",
      "source": [
        "sat['service'] = sat['Inflight wifi service']+sat['Inflight service']+sat['Checkin service']+sat['Leg room service']+sat['On-board service']+sat['Seat comfort']+sat['Cleanliness']+sat['Online boarding']+sat['Class']+sat['Customer Type']\n",
        "sat['during'] = sat['Flight Distance']*sat['service']"
      ],
      "metadata": {
        "id": "_u5UcnQ2XA7d"
      },
      "execution_count": null,
      "outputs": []
    },
    {
      "cell_type": "code",
      "source": [
        "sat.corrwith(sat['satisfaction']).sort_values(ascending=False)"
      ],
      "metadata": {
        "colab": {
          "base_uri": "https://localhost:8080/"
        },
        "id": "xsC0eBNdEyoU",
        "outputId": "1f17fdb3-fb39-4f10-8991-22158050d3cb"
      },
      "execution_count": null,
      "outputs": [
        {
          "output_type": "execute_result",
          "data": {
            "text/plain": [
              "satisfaction                         1.000000\n",
              "service                              0.616784\n",
              "Class                                0.527742\n",
              "Online boarding                      0.502644\n",
              "during                               0.414396\n",
              "Inflight entertainment               0.398787\n",
              "Seat comfort                         0.346127\n",
              "On-board service                     0.328583\n",
              "Leg room service                     0.327294\n",
              "Cleanliness                          0.306683\n",
              "Flight Distance                      0.300172\n",
              "Inflight wifi service                0.274971\n",
              "Baggage handling                     0.250452\n",
              "Inflight service                     0.238177\n",
              "Checkin service                      0.229406\n",
              "Food and drink                       0.205826\n",
              "Customer Type                        0.184710\n",
              "Ease of Online booking               0.164337\n",
              "Age                                  0.144681\n",
              "Gate location                        0.009902\n",
              "id                                  -0.001550\n",
              "Gender                              -0.008180\n",
              "Departure Delay in Minutes          -0.037366\n",
              "Departure/Arrival time convenient   -0.073458\n",
              "Type of Travel                      -0.483603\n",
              "dtype: float64"
            ]
          },
          "metadata": {},
          "execution_count": 953
        }
      ]
    },
    {
      "cell_type": "code",
      "source": [
        "# sat_label = sat['satisfaction'].copy()\n",
        "# sat.drop('satisfaction', axis=1, inplace=True)\n",
        "\n",
        "X = sat.drop('satisfaction', axis=1)\n",
        "y = sat['satisfaction'].copy()"
      ],
      "metadata": {
        "id": "HQmmRF9qzpX5"
      },
      "execution_count": null,
      "outputs": []
    },
    {
      "cell_type": "code",
      "source": [
        "X.info()"
      ],
      "metadata": {
        "colab": {
          "base_uri": "https://localhost:8080/"
        },
        "id": "nPlb0CuMKPMs",
        "outputId": "e1f34d69-7b33-4377-aa6a-bd5236042dae"
      },
      "execution_count": null,
      "outputs": [
        {
          "output_type": "stream",
          "name": "stdout",
          "text": [
            "<class 'pandas.core.frame.DataFrame'>\n",
            "Int64Index: 8000 entries, 2183 to 2340\n",
            "Data columns (total 24 columns):\n",
            " #   Column                             Non-Null Count  Dtype\n",
            "---  ------                             --------------  -----\n",
            " 0   id                                 8000 non-null   int64\n",
            " 1   Gender                             8000 non-null   int64\n",
            " 2   Customer Type                      8000 non-null   int64\n",
            " 3   Age                                8000 non-null   int64\n",
            " 4   Type of Travel                     8000 non-null   int64\n",
            " 5   Class                              8000 non-null   int64\n",
            " 6   Flight Distance                    8000 non-null   int64\n",
            " 7   Inflight wifi service              8000 non-null   int64\n",
            " 8   Departure/Arrival time convenient  8000 non-null   int64\n",
            " 9   Ease of Online booking             8000 non-null   int64\n",
            " 10  Gate location                      8000 non-null   int64\n",
            " 11  Food and drink                     8000 non-null   int64\n",
            " 12  Online boarding                    8000 non-null   int64\n",
            " 13  Seat comfort                       8000 non-null   int64\n",
            " 14  Inflight entertainment             8000 non-null   int64\n",
            " 15  On-board service                   8000 non-null   int64\n",
            " 16  Leg room service                   8000 non-null   int64\n",
            " 17  Baggage handling                   8000 non-null   int64\n",
            " 18  Checkin service                    8000 non-null   int64\n",
            " 19  Inflight service                   8000 non-null   int64\n",
            " 20  Cleanliness                        8000 non-null   int64\n",
            " 21  Departure Delay in Minutes         8000 non-null   int64\n",
            " 22  service                            8000 non-null   int64\n",
            " 23  during                             8000 non-null   int64\n",
            "dtypes: int64(24)\n",
            "memory usage: 1.8 MB\n"
          ]
        }
      ]
    },
    {
      "cell_type": "code",
      "source": [
        "customer_in, class_in, flight_in, wifi_in, online_in, seat_in, onboard_in, leg_in, checkin_in, inflight_in, clean_in, service_in, during_in = 2, 5, 6, 7, 12, 13, 15, 16, 18, 19, 20, 22, 23\n",
        "\n",
        "class CombinedAttributesAdder(BaseEstimator, TransformerMixin):\n",
        "    def __init__(self, flight_n_service=True):\n",
        "        self.flight_n_service = flight_n_service\n",
        "    def fit(self, X, y=None):\n",
        "        return self\n",
        "    def transform(self, X):\n",
        "        service = X[:,customer_in] + X[:,class_in] + X[:,wifi_in] + X[:,online_in] + X[:,seat_in]+ X[:,onboard_in] + X[:,leg_in] + X[:,checkin_in] + X[:,inflight_in] + X[:,clean_in]\n",
        "        during = X[:,flight_in] * X[:,service_in]\n",
        "        return np.c_[X, service, during]"
      ],
      "metadata": {
        "id": "g3e8CSuhj_La"
      },
      "execution_count": null,
      "outputs": []
    },
    {
      "cell_type": "code",
      "source": [
        "attr_adder = CombinedAttributesAdder(flight_n_service=True)\n",
        "sat_extra_attrs = attr_adder.transform(X.values)\n",
        "sat_extra_attrs[0,:]"
      ],
      "metadata": {
        "id": "CivurjOdd-HK",
        "colab": {
          "base_uri": "https://localhost:8080/"
        },
        "outputId": "c71499ac-c7fe-42a6-be66-3cd74f8aaf25"
      },
      "execution_count": null,
      "outputs": [
        {
          "output_type": "execute_result",
          "data": {
            "text/plain": [
              "array([ 2184,     1,     1,    23,     1,     0,  2227,     2,     3,\n",
              "           2,     4,     1,     2,     2,     1,     3,     3,     4,\n",
              "           4,     4,     1,     0,    22, 48994,    22, 48994])"
            ]
          },
          "metadata": {},
          "execution_count": 957
        }
      ]
    },
    {
      "cell_type": "code",
      "source": [
        "min_mix_scaler = MinMaxScaler()\n",
        "min_mix_scaler.fit_transform(X)"
      ],
      "metadata": {
        "id": "WMWAqasxTV-Q",
        "colab": {
          "base_uri": "https://localhost:8080/"
        },
        "outputId": "689855e5-4bf6-4f4e-a191-326dbdd22e72"
      },
      "execution_count": null,
      "outputs": [
        {
          "output_type": "execute_result",
          "data": {
            "text/plain": [
              "array([[0.21824365, 1.        , 1.        , ..., 0.        , 0.34375   ,\n",
              "        0.27935211],\n",
              "       [0.43088618, 0.        , 1.        , ..., 0.        , 0.78125   ,\n",
              "        0.2350538 ],\n",
              "       [0.23084617, 0.        , 1.        , ..., 0.00760043, 0.78125   ,\n",
              "        0.59514949],\n",
              "       ...,\n",
              "       [0.99369874, 1.        , 1.        , ..., 0.        , 0.6875    ,\n",
              "        0.21953841],\n",
              "       [0.83866773, 1.        , 1.        , ..., 0.01520087, 0.5       ,\n",
              "        0.25679268],\n",
              "       [0.23394679, 0.        , 1.        , ..., 0.19543974, 0.65625   ,\n",
              "        0.06206733]])"
            ]
          },
          "metadata": {},
          "execution_count": 958
        }
      ]
    },
    {
      "cell_type": "code",
      "source": [
        "standart_scaler = StandardScaler()\n",
        "standart_scaler.fit_transform(X)"
      ],
      "metadata": {
        "id": "QeBMjSh1TVZq",
        "colab": {
          "base_uri": "https://localhost:8080/"
        },
        "outputId": "986382cd-86cf-4de0-e531-62c65f8ae9ea"
      },
      "execution_count": null,
      "outputs": [
        {
          "output_type": "execute_result",
          "data": {
            "text/plain": [
              "array([[-0.98292281,  1.04396559,  0.45076429, ..., -0.36142276,\n",
              "        -1.06015734,  0.34628029],\n",
              "       [-0.24664478, -0.95788598,  0.45076429, ..., -0.36142276,\n",
              "         1.15088922,  0.12459413],\n",
              "       [-0.93928639, -0.95788598,  0.45076429, ..., -0.18752148,\n",
              "         1.15088922,  1.92665446],\n",
              "       ...,\n",
              "       [ 1.70210237,  1.04396559,  0.45076429, ..., -0.36142276,\n",
              "         0.67709353,  0.04694903],\n",
              "       [ 1.16530513,  1.04396559,  0.45076429, ..., -0.0136202 ,\n",
              "        -0.27049786,  0.23338403],\n",
              "       [-0.92855044, -0.95788598,  0.45076429, ...,  4.11032446,\n",
              "         0.51916163, -0.74109811]])"
            ]
          },
          "metadata": {},
          "execution_count": 959
        }
      ]
    },
    {
      "cell_type": "code",
      "source": [
        "pipeline = Pipeline([\n",
        "          ('imputer', SimpleImputer(strategy='median')),\n",
        "          ('attr_adder', CombinedAttributesAdder(flight_n_service=True)),\n",
        "          ('min_max_scaler', MinMaxScaler())#,\n",
        "        #   ('std_scaler', StandardScaler())             \n",
        "])"
      ],
      "metadata": {
        "id": "ocmg3VaBTVW9"
      },
      "execution_count": null,
      "outputs": []
    },
    {
      "cell_type": "code",
      "source": [
        "prepared = pipeline.fit_transform(X)\n",
        "prepared"
      ],
      "metadata": {
        "id": "Szz1tjC-Ne0G",
        "colab": {
          "base_uri": "https://localhost:8080/"
        },
        "outputId": "0e31fb8c-4683-492a-ada0-a27281409dd4"
      },
      "execution_count": null,
      "outputs": [
        {
          "output_type": "execute_result",
          "data": {
            "text/plain": [
              "array([[0.21824365, 1.        , 1.        , ..., 0.27935211, 0.34375   ,\n",
              "        0.27935211],\n",
              "       [0.43088618, 0.        , 1.        , ..., 0.2350538 , 0.78125   ,\n",
              "        0.2350538 ],\n",
              "       [0.23084617, 0.        , 1.        , ..., 0.59514949, 0.78125   ,\n",
              "        0.59514949],\n",
              "       ...,\n",
              "       [0.99369874, 1.        , 1.        , ..., 0.21953841, 0.6875    ,\n",
              "        0.21953841],\n",
              "       [0.83866773, 1.        , 1.        , ..., 0.25679268, 0.5       ,\n",
              "        0.25679268],\n",
              "       [0.23394679, 0.        , 1.        , ..., 0.06206733, 0.65625   ,\n",
              "        0.06206733]])"
            ]
          },
          "metadata": {},
          "execution_count": 961
        }
      ]
    },
    {
      "cell_type": "code",
      "source": [
        "LR_model = LinearRegression()\n",
        "LR_model.fit(prepared, y)"
      ],
      "metadata": {
        "id": "6srtvxKlNexc",
        "colab": {
          "base_uri": "https://localhost:8080/"
        },
        "outputId": "4c26be2e-84f2-4035-f200-574d374b8168"
      },
      "execution_count": null,
      "outputs": [
        {
          "output_type": "execute_result",
          "data": {
            "text/plain": [
              "LinearRegression()"
            ]
          },
          "metadata": {},
          "execution_count": 962
        }
      ]
    },
    {
      "cell_type": "code",
      "source": [
        "test_data = X.sample(5)\n",
        "test_data"
      ],
      "metadata": {
        "id": "xAa0DaVXNerC",
        "colab": {
          "base_uri": "https://localhost:8080/",
          "height": 334
        },
        "outputId": "a961ba15-f4d5-48f7-adfe-4df5d47b3334"
      },
      "execution_count": null,
      "outputs": [
        {
          "output_type": "execute_result",
          "data": {
            "text/plain": [
              "        id  Gender  Customer Type  Age  Type of Travel  Class  \\\n",
              "8219  8220       1              1   49               0      2   \n",
              "5886  5887       0              1   58               1      1   \n",
              "1688  1689       1              0   29               0      2   \n",
              "6991  6992       1              1   36               0      2   \n",
              "3490  3491       0              1   56               0      0   \n",
              "\n",
              "      Flight Distance  Inflight wifi service  \\\n",
              "8219             3971                      4   \n",
              "5886              102                      4   \n",
              "1688              761                      3   \n",
              "6991              509                      5   \n",
              "3490              674                      4   \n",
              "\n",
              "      Departure/Arrival time convenient  Ease of Online booking  ...  \\\n",
              "8219                                  1                       4  ...   \n",
              "5886                                  4                       4  ...   \n",
              "1688                                  3                       3  ...   \n",
              "6991                                  5                       5  ...   \n",
              "3490                                  2                       1  ...   \n",
              "\n",
              "      Inflight entertainment  On-board service  Leg room service  \\\n",
              "8219                       4                 4                 4   \n",
              "5886                       1                 1                 4   \n",
              "1688                       2                 3                 2   \n",
              "6991                       5                 5                 5   \n",
              "3490                       4                 4                 4   \n",
              "\n",
              "      Baggage handling  Checkin service  Inflight service  Cleanliness  \\\n",
              "8219                 4                5                 4            3   \n",
              "5886                 1                3                 1            2   \n",
              "1688                 4                5                 4            2   \n",
              "6991                 5                2                 5            4   \n",
              "3490                 4                1                 4            2   \n",
              "\n",
              "      Departure Delay in Minutes  service  during  \n",
              "8219                          38       35  138985  \n",
              "5886                           0       23    2346  \n",
              "1688                           0       26   19786  \n",
              "6991                          14       38   19342  \n",
              "3490                          16       28   18872  \n",
              "\n",
              "[5 rows x 24 columns]"
            ],
            "text/html": [
              "\n",
              "  <div id=\"df-20340bbf-c548-447a-ac55-5c6338b2dbbc\">\n",
              "    <div class=\"colab-df-container\">\n",
              "      <div>\n",
              "<style scoped>\n",
              "    .dataframe tbody tr th:only-of-type {\n",
              "        vertical-align: middle;\n",
              "    }\n",
              "\n",
              "    .dataframe tbody tr th {\n",
              "        vertical-align: top;\n",
              "    }\n",
              "\n",
              "    .dataframe thead th {\n",
              "        text-align: right;\n",
              "    }\n",
              "</style>\n",
              "<table border=\"1\" class=\"dataframe\">\n",
              "  <thead>\n",
              "    <tr style=\"text-align: right;\">\n",
              "      <th></th>\n",
              "      <th>id</th>\n",
              "      <th>Gender</th>\n",
              "      <th>Customer Type</th>\n",
              "      <th>Age</th>\n",
              "      <th>Type of Travel</th>\n",
              "      <th>Class</th>\n",
              "      <th>Flight Distance</th>\n",
              "      <th>Inflight wifi service</th>\n",
              "      <th>Departure/Arrival time convenient</th>\n",
              "      <th>Ease of Online booking</th>\n",
              "      <th>...</th>\n",
              "      <th>Inflight entertainment</th>\n",
              "      <th>On-board service</th>\n",
              "      <th>Leg room service</th>\n",
              "      <th>Baggage handling</th>\n",
              "      <th>Checkin service</th>\n",
              "      <th>Inflight service</th>\n",
              "      <th>Cleanliness</th>\n",
              "      <th>Departure Delay in Minutes</th>\n",
              "      <th>service</th>\n",
              "      <th>during</th>\n",
              "    </tr>\n",
              "  </thead>\n",
              "  <tbody>\n",
              "    <tr>\n",
              "      <th>8219</th>\n",
              "      <td>8220</td>\n",
              "      <td>1</td>\n",
              "      <td>1</td>\n",
              "      <td>49</td>\n",
              "      <td>0</td>\n",
              "      <td>2</td>\n",
              "      <td>3971</td>\n",
              "      <td>4</td>\n",
              "      <td>1</td>\n",
              "      <td>4</td>\n",
              "      <td>...</td>\n",
              "      <td>4</td>\n",
              "      <td>4</td>\n",
              "      <td>4</td>\n",
              "      <td>4</td>\n",
              "      <td>5</td>\n",
              "      <td>4</td>\n",
              "      <td>3</td>\n",
              "      <td>38</td>\n",
              "      <td>35</td>\n",
              "      <td>138985</td>\n",
              "    </tr>\n",
              "    <tr>\n",
              "      <th>5886</th>\n",
              "      <td>5887</td>\n",
              "      <td>0</td>\n",
              "      <td>1</td>\n",
              "      <td>58</td>\n",
              "      <td>1</td>\n",
              "      <td>1</td>\n",
              "      <td>102</td>\n",
              "      <td>4</td>\n",
              "      <td>4</td>\n",
              "      <td>4</td>\n",
              "      <td>...</td>\n",
              "      <td>1</td>\n",
              "      <td>1</td>\n",
              "      <td>4</td>\n",
              "      <td>1</td>\n",
              "      <td>3</td>\n",
              "      <td>1</td>\n",
              "      <td>2</td>\n",
              "      <td>0</td>\n",
              "      <td>23</td>\n",
              "      <td>2346</td>\n",
              "    </tr>\n",
              "    <tr>\n",
              "      <th>1688</th>\n",
              "      <td>1689</td>\n",
              "      <td>1</td>\n",
              "      <td>0</td>\n",
              "      <td>29</td>\n",
              "      <td>0</td>\n",
              "      <td>2</td>\n",
              "      <td>761</td>\n",
              "      <td>3</td>\n",
              "      <td>3</td>\n",
              "      <td>3</td>\n",
              "      <td>...</td>\n",
              "      <td>2</td>\n",
              "      <td>3</td>\n",
              "      <td>2</td>\n",
              "      <td>4</td>\n",
              "      <td>5</td>\n",
              "      <td>4</td>\n",
              "      <td>2</td>\n",
              "      <td>0</td>\n",
              "      <td>26</td>\n",
              "      <td>19786</td>\n",
              "    </tr>\n",
              "    <tr>\n",
              "      <th>6991</th>\n",
              "      <td>6992</td>\n",
              "      <td>1</td>\n",
              "      <td>1</td>\n",
              "      <td>36</td>\n",
              "      <td>0</td>\n",
              "      <td>2</td>\n",
              "      <td>509</td>\n",
              "      <td>5</td>\n",
              "      <td>5</td>\n",
              "      <td>5</td>\n",
              "      <td>...</td>\n",
              "      <td>5</td>\n",
              "      <td>5</td>\n",
              "      <td>5</td>\n",
              "      <td>5</td>\n",
              "      <td>2</td>\n",
              "      <td>5</td>\n",
              "      <td>4</td>\n",
              "      <td>14</td>\n",
              "      <td>38</td>\n",
              "      <td>19342</td>\n",
              "    </tr>\n",
              "    <tr>\n",
              "      <th>3490</th>\n",
              "      <td>3491</td>\n",
              "      <td>0</td>\n",
              "      <td>1</td>\n",
              "      <td>56</td>\n",
              "      <td>0</td>\n",
              "      <td>0</td>\n",
              "      <td>674</td>\n",
              "      <td>4</td>\n",
              "      <td>2</td>\n",
              "      <td>1</td>\n",
              "      <td>...</td>\n",
              "      <td>4</td>\n",
              "      <td>4</td>\n",
              "      <td>4</td>\n",
              "      <td>4</td>\n",
              "      <td>1</td>\n",
              "      <td>4</td>\n",
              "      <td>2</td>\n",
              "      <td>16</td>\n",
              "      <td>28</td>\n",
              "      <td>18872</td>\n",
              "    </tr>\n",
              "  </tbody>\n",
              "</table>\n",
              "<p>5 rows × 24 columns</p>\n",
              "</div>\n",
              "      <button class=\"colab-df-convert\" onclick=\"convertToInteractive('df-20340bbf-c548-447a-ac55-5c6338b2dbbc')\"\n",
              "              title=\"Convert this dataframe to an interactive table.\"\n",
              "              style=\"display:none;\">\n",
              "        \n",
              "  <svg xmlns=\"http://www.w3.org/2000/svg\" height=\"24px\"viewBox=\"0 0 24 24\"\n",
              "       width=\"24px\">\n",
              "    <path d=\"M0 0h24v24H0V0z\" fill=\"none\"/>\n",
              "    <path d=\"M18.56 5.44l.94 2.06.94-2.06 2.06-.94-2.06-.94-.94-2.06-.94 2.06-2.06.94zm-11 1L8.5 8.5l.94-2.06 2.06-.94-2.06-.94L8.5 2.5l-.94 2.06-2.06.94zm10 10l.94 2.06.94-2.06 2.06-.94-2.06-.94-.94-2.06-.94 2.06-2.06.94z\"/><path d=\"M17.41 7.96l-1.37-1.37c-.4-.4-.92-.59-1.43-.59-.52 0-1.04.2-1.43.59L10.3 9.45l-7.72 7.72c-.78.78-.78 2.05 0 2.83L4 21.41c.39.39.9.59 1.41.59.51 0 1.02-.2 1.41-.59l7.78-7.78 2.81-2.81c.8-.78.8-2.07 0-2.86zM5.41 20L4 18.59l7.72-7.72 1.47 1.35L5.41 20z\"/>\n",
              "  </svg>\n",
              "      </button>\n",
              "      \n",
              "  <style>\n",
              "    .colab-df-container {\n",
              "      display:flex;\n",
              "      flex-wrap:wrap;\n",
              "      gap: 12px;\n",
              "    }\n",
              "\n",
              "    .colab-df-convert {\n",
              "      background-color: #E8F0FE;\n",
              "      border: none;\n",
              "      border-radius: 50%;\n",
              "      cursor: pointer;\n",
              "      display: none;\n",
              "      fill: #1967D2;\n",
              "      height: 32px;\n",
              "      padding: 0 0 0 0;\n",
              "      width: 32px;\n",
              "    }\n",
              "\n",
              "    .colab-df-convert:hover {\n",
              "      background-color: #E2EBFA;\n",
              "      box-shadow: 0px 1px 2px rgba(60, 64, 67, 0.3), 0px 1px 3px 1px rgba(60, 64, 67, 0.15);\n",
              "      fill: #174EA6;\n",
              "    }\n",
              "\n",
              "    [theme=dark] .colab-df-convert {\n",
              "      background-color: #3B4455;\n",
              "      fill: #D2E3FC;\n",
              "    }\n",
              "\n",
              "    [theme=dark] .colab-df-convert:hover {\n",
              "      background-color: #434B5C;\n",
              "      box-shadow: 0px 1px 3px 1px rgba(0, 0, 0, 0.15);\n",
              "      filter: drop-shadow(0px 1px 2px rgba(0, 0, 0, 0.3));\n",
              "      fill: #FFFFFF;\n",
              "    }\n",
              "  </style>\n",
              "\n",
              "      <script>\n",
              "        const buttonEl =\n",
              "          document.querySelector('#df-20340bbf-c548-447a-ac55-5c6338b2dbbc button.colab-df-convert');\n",
              "        buttonEl.style.display =\n",
              "          google.colab.kernel.accessAllowed ? 'block' : 'none';\n",
              "\n",
              "        async function convertToInteractive(key) {\n",
              "          const element = document.querySelector('#df-20340bbf-c548-447a-ac55-5c6338b2dbbc');\n",
              "          const dataTable =\n",
              "            await google.colab.kernel.invokeFunction('convertToInteractive',\n",
              "                                                     [key], {});\n",
              "          if (!dataTable) return;\n",
              "\n",
              "          const docLinkHtml = 'Like what you see? Visit the ' +\n",
              "            '<a target=\"_blank\" href=https://colab.research.google.com/notebooks/data_table.ipynb>data table notebook</a>'\n",
              "            + ' to learn more about interactive tables.';\n",
              "          element.innerHTML = '';\n",
              "          dataTable['output_type'] = 'display_data';\n",
              "          await google.colab.output.renderOutput(dataTable, element);\n",
              "          const docLink = document.createElement('div');\n",
              "          docLink.innerHTML = docLinkHtml;\n",
              "          element.appendChild(docLink);\n",
              "        }\n",
              "      </script>\n",
              "    </div>\n",
              "  </div>\n",
              "  "
            ]
          },
          "metadata": {},
          "execution_count": 963
        }
      ]
    },
    {
      "cell_type": "code",
      "source": [
        "test_label = y.loc[test_data.index]\n",
        "test_label"
      ],
      "metadata": {
        "id": "2g25QLlxNeoc",
        "colab": {
          "base_uri": "https://localhost:8080/"
        },
        "outputId": "249cb8c6-be88-4ee8-ab7b-2823de2c8ec8"
      },
      "execution_count": null,
      "outputs": [
        {
          "output_type": "execute_result",
          "data": {
            "text/plain": [
              "8219    1\n",
              "5886    0\n",
              "1688    0\n",
              "6991    1\n",
              "3490    1\n",
              "Name: satisfaction, dtype: int64"
            ]
          },
          "metadata": {},
          "execution_count": 964
        }
      ]
    },
    {
      "cell_type": "code",
      "source": [
        "test_prepared = pipeline.transform(test_data)\n",
        "test_prepared"
      ],
      "metadata": {
        "id": "acIOHnN2NQMW",
        "colab": {
          "base_uri": "https://localhost:8080/"
        },
        "outputId": "33f3d771-7070-47e5-b471-219d7e5431e2"
      },
      "execution_count": null,
      "outputs": [
        {
          "output_type": "execute_result",
          "data": {
            "text/plain": [
              "array([[0.82196439, 1.        , 1.        , 0.57534247, 0.        ,\n",
              "        1.        , 0.79563813, 0.8       , 0.2       , 0.8       ,\n",
              "        0.75      , 0.8       , 0.8       , 0.8       , 0.75      ,\n",
              "        0.75      , 0.8       , 0.75      , 1.        , 0.75      ,\n",
              "        0.6       , 0.0412595 , 0.75      , 0.79936898, 0.75      ,\n",
              "        0.79936898],\n",
              "       [0.58861772, 0.        , 1.        , 0.69863014, 1.        ,\n",
              "        0.5       , 0.01433764, 0.8       , 0.8       , 0.8       ,\n",
              "        0.75      , 0.8       , 0.2       , 1.        , 0.        ,\n",
              "        0.        , 0.8       , 0.        , 0.6       , 0.        ,\n",
              "        0.4       , 0.        , 0.375     , 0.00979463, 0.375     ,\n",
              "        0.00979463],\n",
              "       [0.16873375, 1.        , 0.        , 0.30136986, 0.        ,\n",
              "        1.        , 0.14741519, 0.6       , 0.6       , 0.6       ,\n",
              "        0.        , 0.4       , 0.6       , 0.4       , 0.25      ,\n",
              "        0.5       , 0.4       , 0.75      , 1.        , 0.75      ,\n",
              "        0.4       , 0.        , 0.46875   , 0.11057242, 0.46875   ,\n",
              "        0.11057242],\n",
              "       [0.69913983, 1.        , 1.        , 0.39726027, 0.        ,\n",
              "        1.        , 0.09652666, 1.        , 1.        , 1.        ,\n",
              "        1.        , 0.6       , 1.        , 0.8       , 1.        ,\n",
              "        1.        , 1.        , 1.        , 0.4       , 1.        ,\n",
              "        0.8       , 0.01520087, 0.84375   , 0.10800675, 0.84375   ,\n",
              "        0.10800675],\n",
              "       [0.34896979, 0.        , 1.        , 0.67123288, 0.        ,\n",
              "        0.        , 0.12984653, 0.8       , 0.4       , 0.2       ,\n",
              "        0.25      , 0.2       , 0.8       , 0.8       , 0.75      ,\n",
              "        0.75      , 0.8       , 0.75      , 0.2       , 0.75      ,\n",
              "        0.4       , 0.01737242, 0.53125   , 0.10529083, 0.53125   ,\n",
              "        0.10529083]])"
            ]
          },
          "metadata": {},
          "execution_count": 965
        }
      ]
    },
    {
      "cell_type": "code",
      "source": [
        "predicted = LR_model.predict(test_prepared)\n",
        "predicted"
      ],
      "metadata": {
        "id": "aQgQYiHqNQJ4",
        "colab": {
          "base_uri": "https://localhost:8080/"
        },
        "outputId": "f249d402-a3c2-42a8-97c2-cee9134a075b"
      },
      "execution_count": null,
      "outputs": [
        {
          "output_type": "execute_result",
          "data": {
            "text/plain": [
              "array([ 0.99327835, -0.08841541,  0.38727044,  1.00338322,  0.7406967 ])"
            ]
          },
          "metadata": {},
          "execution_count": 966
        }
      ]
    },
    {
      "cell_type": "code",
      "source": [
        "pd.DataFrame({'Forecast':predicted, 'Real score': test_label})"
      ],
      "metadata": {
        "id": "53HdtNW0TVUE",
        "colab": {
          "base_uri": "https://localhost:8080/",
          "height": 206
        },
        "outputId": "fb93146f-3918-4a6f-ff0a-736bdfc29da2"
      },
      "execution_count": null,
      "outputs": [
        {
          "output_type": "execute_result",
          "data": {
            "text/plain": [
              "      Forecast  Real score\n",
              "8219  0.993278           1\n",
              "5886 -0.088415           0\n",
              "1688  0.387270           0\n",
              "6991  1.003383           1\n",
              "3490  0.740697           1"
            ],
            "text/html": [
              "\n",
              "  <div id=\"df-acd06514-657b-46cf-8b94-5912d2dcd035\">\n",
              "    <div class=\"colab-df-container\">\n",
              "      <div>\n",
              "<style scoped>\n",
              "    .dataframe tbody tr th:only-of-type {\n",
              "        vertical-align: middle;\n",
              "    }\n",
              "\n",
              "    .dataframe tbody tr th {\n",
              "        vertical-align: top;\n",
              "    }\n",
              "\n",
              "    .dataframe thead th {\n",
              "        text-align: right;\n",
              "    }\n",
              "</style>\n",
              "<table border=\"1\" class=\"dataframe\">\n",
              "  <thead>\n",
              "    <tr style=\"text-align: right;\">\n",
              "      <th></th>\n",
              "      <th>Forecast</th>\n",
              "      <th>Real score</th>\n",
              "    </tr>\n",
              "  </thead>\n",
              "  <tbody>\n",
              "    <tr>\n",
              "      <th>8219</th>\n",
              "      <td>0.993278</td>\n",
              "      <td>1</td>\n",
              "    </tr>\n",
              "    <tr>\n",
              "      <th>5886</th>\n",
              "      <td>-0.088415</td>\n",
              "      <td>0</td>\n",
              "    </tr>\n",
              "    <tr>\n",
              "      <th>1688</th>\n",
              "      <td>0.387270</td>\n",
              "      <td>0</td>\n",
              "    </tr>\n",
              "    <tr>\n",
              "      <th>6991</th>\n",
              "      <td>1.003383</td>\n",
              "      <td>1</td>\n",
              "    </tr>\n",
              "    <tr>\n",
              "      <th>3490</th>\n",
              "      <td>0.740697</td>\n",
              "      <td>1</td>\n",
              "    </tr>\n",
              "  </tbody>\n",
              "</table>\n",
              "</div>\n",
              "      <button class=\"colab-df-convert\" onclick=\"convertToInteractive('df-acd06514-657b-46cf-8b94-5912d2dcd035')\"\n",
              "              title=\"Convert this dataframe to an interactive table.\"\n",
              "              style=\"display:none;\">\n",
              "        \n",
              "  <svg xmlns=\"http://www.w3.org/2000/svg\" height=\"24px\"viewBox=\"0 0 24 24\"\n",
              "       width=\"24px\">\n",
              "    <path d=\"M0 0h24v24H0V0z\" fill=\"none\"/>\n",
              "    <path d=\"M18.56 5.44l.94 2.06.94-2.06 2.06-.94-2.06-.94-.94-2.06-.94 2.06-2.06.94zm-11 1L8.5 8.5l.94-2.06 2.06-.94-2.06-.94L8.5 2.5l-.94 2.06-2.06.94zm10 10l.94 2.06.94-2.06 2.06-.94-2.06-.94-.94-2.06-.94 2.06-2.06.94z\"/><path d=\"M17.41 7.96l-1.37-1.37c-.4-.4-.92-.59-1.43-.59-.52 0-1.04.2-1.43.59L10.3 9.45l-7.72 7.72c-.78.78-.78 2.05 0 2.83L4 21.41c.39.39.9.59 1.41.59.51 0 1.02-.2 1.41-.59l7.78-7.78 2.81-2.81c.8-.78.8-2.07 0-2.86zM5.41 20L4 18.59l7.72-7.72 1.47 1.35L5.41 20z\"/>\n",
              "  </svg>\n",
              "      </button>\n",
              "      \n",
              "  <style>\n",
              "    .colab-df-container {\n",
              "      display:flex;\n",
              "      flex-wrap:wrap;\n",
              "      gap: 12px;\n",
              "    }\n",
              "\n",
              "    .colab-df-convert {\n",
              "      background-color: #E8F0FE;\n",
              "      border: none;\n",
              "      border-radius: 50%;\n",
              "      cursor: pointer;\n",
              "      display: none;\n",
              "      fill: #1967D2;\n",
              "      height: 32px;\n",
              "      padding: 0 0 0 0;\n",
              "      width: 32px;\n",
              "    }\n",
              "\n",
              "    .colab-df-convert:hover {\n",
              "      background-color: #E2EBFA;\n",
              "      box-shadow: 0px 1px 2px rgba(60, 64, 67, 0.3), 0px 1px 3px 1px rgba(60, 64, 67, 0.15);\n",
              "      fill: #174EA6;\n",
              "    }\n",
              "\n",
              "    [theme=dark] .colab-df-convert {\n",
              "      background-color: #3B4455;\n",
              "      fill: #D2E3FC;\n",
              "    }\n",
              "\n",
              "    [theme=dark] .colab-df-convert:hover {\n",
              "      background-color: #434B5C;\n",
              "      box-shadow: 0px 1px 3px 1px rgba(0, 0, 0, 0.15);\n",
              "      filter: drop-shadow(0px 1px 2px rgba(0, 0, 0, 0.3));\n",
              "      fill: #FFFFFF;\n",
              "    }\n",
              "  </style>\n",
              "\n",
              "      <script>\n",
              "        const buttonEl =\n",
              "          document.querySelector('#df-acd06514-657b-46cf-8b94-5912d2dcd035 button.colab-df-convert');\n",
              "        buttonEl.style.display =\n",
              "          google.colab.kernel.accessAllowed ? 'block' : 'none';\n",
              "\n",
              "        async function convertToInteractive(key) {\n",
              "          const element = document.querySelector('#df-acd06514-657b-46cf-8b94-5912d2dcd035');\n",
              "          const dataTable =\n",
              "            await google.colab.kernel.invokeFunction('convertToInteractive',\n",
              "                                                     [key], {});\n",
              "          if (!dataTable) return;\n",
              "\n",
              "          const docLinkHtml = 'Like what you see? Visit the ' +\n",
              "            '<a target=\"_blank\" href=https://colab.research.google.com/notebooks/data_table.ipynb>data table notebook</a>'\n",
              "            + ' to learn more about interactive tables.';\n",
              "          element.innerHTML = '';\n",
              "          dataTable['output_type'] = 'display_data';\n",
              "          await google.colab.output.renderOutput(dataTable, element);\n",
              "          const docLink = document.createElement('div');\n",
              "          docLink.innerHTML = docLinkHtml;\n",
              "          element.appendChild(docLink);\n",
              "        }\n",
              "      </script>\n",
              "    </div>\n",
              "  </div>\n",
              "  "
            ]
          },
          "metadata": {},
          "execution_count": 967
        }
      ]
    },
    {
      "cell_type": "code",
      "source": [
        "test.drop('distance_cat', axis=1, inplace=True)\n",
        "test.info()"
      ],
      "metadata": {
        "colab": {
          "base_uri": "https://localhost:8080/"
        },
        "id": "fKPwpHGMV1Or",
        "outputId": "db0f95b4-e953-48a0-8f7c-c12d20588c59"
      },
      "execution_count": null,
      "outputs": [
        {
          "output_type": "stream",
          "name": "stdout",
          "text": [
            "<class 'pandas.core.frame.DataFrame'>\n",
            "Int64Index: 2000 entries, 5672 to 8908\n",
            "Data columns (total 23 columns):\n",
            " #   Column                             Non-Null Count  Dtype\n",
            "---  ------                             --------------  -----\n",
            " 0   id                                 2000 non-null   int64\n",
            " 1   Gender                             2000 non-null   int64\n",
            " 2   Customer Type                      2000 non-null   int64\n",
            " 3   Age                                2000 non-null   int64\n",
            " 4   Type of Travel                     2000 non-null   int64\n",
            " 5   Class                              2000 non-null   int64\n",
            " 6   Flight Distance                    2000 non-null   int64\n",
            " 7   Inflight wifi service              2000 non-null   int64\n",
            " 8   Departure/Arrival time convenient  2000 non-null   int64\n",
            " 9   Ease of Online booking             2000 non-null   int64\n",
            " 10  Gate location                      2000 non-null   int64\n",
            " 11  Food and drink                     2000 non-null   int64\n",
            " 12  Online boarding                    2000 non-null   int64\n",
            " 13  Seat comfort                       2000 non-null   int64\n",
            " 14  Inflight entertainment             2000 non-null   int64\n",
            " 15  On-board service                   2000 non-null   int64\n",
            " 16  Leg room service                   2000 non-null   int64\n",
            " 17  Baggage handling                   2000 non-null   int64\n",
            " 18  Checkin service                    2000 non-null   int64\n",
            " 19  Inflight service                   2000 non-null   int64\n",
            " 20  Cleanliness                        2000 non-null   int64\n",
            " 21  Departure Delay in Minutes         2000 non-null   int64\n",
            " 22  satisfaction                       2000 non-null   int64\n",
            "dtypes: int64(23)\n",
            "memory usage: 375.0 KB\n"
          ]
        }
      ]
    },
    {
      "cell_type": "code",
      "source": [
        "test['service'] = test['Inflight wifi service']+test['Inflight service']+test['Checkin service']+test['Leg room service']+test['On-board service']+test['Seat comfort']+test['Cleanliness']+test['Online boarding']+test['Class']+test['Customer Type']\n",
        "test['during'] = test['Flight Distance']*test['service']"
      ],
      "metadata": {
        "id": "1h32wZe2VdSY"
      },
      "execution_count": null,
      "outputs": []
    },
    {
      "cell_type": "code",
      "source": [
        "test.info()"
      ],
      "metadata": {
        "colab": {
          "base_uri": "https://localhost:8080/"
        },
        "id": "XhcHHpjIYb0D",
        "outputId": "ff6cd93c-d71b-486e-d8af-02c01971d74d"
      },
      "execution_count": null,
      "outputs": [
        {
          "output_type": "stream",
          "name": "stdout",
          "text": [
            "<class 'pandas.core.frame.DataFrame'>\n",
            "Int64Index: 2000 entries, 5672 to 8908\n",
            "Data columns (total 25 columns):\n",
            " #   Column                             Non-Null Count  Dtype\n",
            "---  ------                             --------------  -----\n",
            " 0   id                                 2000 non-null   int64\n",
            " 1   Gender                             2000 non-null   int64\n",
            " 2   Customer Type                      2000 non-null   int64\n",
            " 3   Age                                2000 non-null   int64\n",
            " 4   Type of Travel                     2000 non-null   int64\n",
            " 5   Class                              2000 non-null   int64\n",
            " 6   Flight Distance                    2000 non-null   int64\n",
            " 7   Inflight wifi service              2000 non-null   int64\n",
            " 8   Departure/Arrival time convenient  2000 non-null   int64\n",
            " 9   Ease of Online booking             2000 non-null   int64\n",
            " 10  Gate location                      2000 non-null   int64\n",
            " 11  Food and drink                     2000 non-null   int64\n",
            " 12  Online boarding                    2000 non-null   int64\n",
            " 13  Seat comfort                       2000 non-null   int64\n",
            " 14  Inflight entertainment             2000 non-null   int64\n",
            " 15  On-board service                   2000 non-null   int64\n",
            " 16  Leg room service                   2000 non-null   int64\n",
            " 17  Baggage handling                   2000 non-null   int64\n",
            " 18  Checkin service                    2000 non-null   int64\n",
            " 19  Inflight service                   2000 non-null   int64\n",
            " 20  Cleanliness                        2000 non-null   int64\n",
            " 21  Departure Delay in Minutes         2000 non-null   int64\n",
            " 22  satisfaction                       2000 non-null   int64\n",
            " 23  service                            2000 non-null   int64\n",
            " 24  during                             2000 non-null   int64\n",
            "dtypes: int64(25)\n",
            "memory usage: 406.2 KB\n"
          ]
        }
      ]
    },
    {
      "cell_type": "code",
      "source": [
        "customer_in, class_in, flight_in, wifi_in, online_in, seat_in, onboard_in, leg_in, checkin_in, inflight_in, clean_in, service_in, during_in = 2, 5, 6, 7, 12, 13, 15, 16, 18, 19, 20, 23, 24\n",
        "\n",
        "class CombinedAttributesAdder(BaseEstimator, TransformerMixin):\n",
        "    def __init__(self, flight_n_service=True):\n",
        "        self.flight_n_service = flight_n_service\n",
        "    def fit(self, test, y=None):\n",
        "        return self\n",
        "    def transform(self, test):\n",
        "        service = test[:,customer_in] + test[:,class_in] + test[:,wifi_in] + test[:,online_in] + test[:,seat_in]+ test[:,onboard_in] + test[:,leg_in] + test[:,checkin_in] + test[:,inflight_in] + test[:,clean_in]\n",
        "        during = test[:,flight_in] * test[:,service_in]\n",
        "        return np.c_[test, service, during]"
      ],
      "metadata": {
        "id": "TIBi5SufVdQX"
      },
      "execution_count": null,
      "outputs": []
    },
    {
      "cell_type": "code",
      "source": [
        "X_test = test.drop('satisfaction', axis=1)\n",
        "X_test"
      ],
      "metadata": {
        "id": "xB0lSmjGTVOV",
        "colab": {
          "base_uri": "https://localhost:8080/",
          "height": 522
        },
        "outputId": "783ff4cb-3b87-411e-b74f-e9ffcec467a4"
      },
      "execution_count": null,
      "outputs": [
        {
          "output_type": "execute_result",
          "data": {
            "text/plain": [
              "        id  Gender  Customer Type  Age  Type of Travel  Class  \\\n",
              "5672  5673       0              1   54               0      1   \n",
              "3346  3347       0              1   60               0      2   \n",
              "5867  5868       1              1   34               0      2   \n",
              "2322  2323       1              1   52               0      0   \n",
              "5233  5234       0              1   44               0      2   \n",
              "...    ...     ...            ...  ...             ...    ...   \n",
              "2286  2287       0              1   32               0      0   \n",
              "6050  6051       0              1   56               0      2   \n",
              "2538  2539       0              0   30               0      2   \n",
              "4877  4878       1              1   20               1      0   \n",
              "8908  8909       1              1   31               1      0   \n",
              "\n",
              "      Flight Distance  Inflight wifi service  \\\n",
              "5672               89                      5   \n",
              "3346             1908                      3   \n",
              "5867             3264                      3   \n",
              "2322             1174                      1   \n",
              "5233             1521                      5   \n",
              "...               ...                    ...   \n",
              "2286              204                      2   \n",
              "6050             2139                      2   \n",
              "2538              992                      1   \n",
              "4877              867                      5   \n",
              "8908             1066                      3   \n",
              "\n",
              "      Departure/Arrival time convenient  Ease of Online booking  ...  \\\n",
              "5672                                  2                       2  ...   \n",
              "3346                                  3                       3  ...   \n",
              "5867                                  4                       4  ...   \n",
              "2322                                  2                       2  ...   \n",
              "5233                                  5                       5  ...   \n",
              "...                                 ...                     ...  ...   \n",
              "2286                                  2                       2  ...   \n",
              "6050                                  2                       2  ...   \n",
              "2538                                  0                       0  ...   \n",
              "4877                                  4                       5  ...   \n",
              "8908                                  5                       3  ...   \n",
              "\n",
              "      Inflight entertainment  On-board service  Leg room service  \\\n",
              "5672                       5                 5                 5   \n",
              "3346                       4                 4                 4   \n",
              "5867                       3                 3                 3   \n",
              "2322                       1                 3                 4   \n",
              "5233                       5                 5                 5   \n",
              "...                      ...               ...               ...   \n",
              "2286                       2                 4                 2   \n",
              "6050                       5                 5                 5   \n",
              "2538                       2                 4                 2   \n",
              "4877                       3                 4                 5   \n",
              "8908                       5                 5                 2   \n",
              "\n",
              "      Baggage handling  Checkin service  Inflight service  Cleanliness  \\\n",
              "5672                 5                5                 5            5   \n",
              "3346                 4                4                 4            3   \n",
              "5867                 3                1                 3            3   \n",
              "2322                 4                2                 3            1   \n",
              "5233                 5                4                 5            5   \n",
              "...                ...              ...               ...          ...   \n",
              "2286                 4                3                 4            2   \n",
              "6050                 5                5                 5            4   \n",
              "2538                 5                3                 5            2   \n",
              "4877                 5                3                 5            3   \n",
              "8908                 5                3                 4            5   \n",
              "\n",
              "      Departure Delay in Minutes  service  during  \n",
              "5672                           0       38    3382  \n",
              "3346                           0       33   62964  \n",
              "5867                          57       26   84864  \n",
              "2322                           0       17   19958  \n",
              "5233                          85       34   51714  \n",
              "...                          ...      ...     ...  \n",
              "2286                           0       22    4488  \n",
              "6050                           3       37   79143  \n",
              "2538                           0       21   20832  \n",
              "4877                          31       34   29478  \n",
              "8908                          33       31   33046  \n",
              "\n",
              "[2000 rows x 24 columns]"
            ],
            "text/html": [
              "\n",
              "  <div id=\"df-2bed3e95-b06c-45c0-be9c-2dc7e5bc32e1\">\n",
              "    <div class=\"colab-df-container\">\n",
              "      <div>\n",
              "<style scoped>\n",
              "    .dataframe tbody tr th:only-of-type {\n",
              "        vertical-align: middle;\n",
              "    }\n",
              "\n",
              "    .dataframe tbody tr th {\n",
              "        vertical-align: top;\n",
              "    }\n",
              "\n",
              "    .dataframe thead th {\n",
              "        text-align: right;\n",
              "    }\n",
              "</style>\n",
              "<table border=\"1\" class=\"dataframe\">\n",
              "  <thead>\n",
              "    <tr style=\"text-align: right;\">\n",
              "      <th></th>\n",
              "      <th>id</th>\n",
              "      <th>Gender</th>\n",
              "      <th>Customer Type</th>\n",
              "      <th>Age</th>\n",
              "      <th>Type of Travel</th>\n",
              "      <th>Class</th>\n",
              "      <th>Flight Distance</th>\n",
              "      <th>Inflight wifi service</th>\n",
              "      <th>Departure/Arrival time convenient</th>\n",
              "      <th>Ease of Online booking</th>\n",
              "      <th>...</th>\n",
              "      <th>Inflight entertainment</th>\n",
              "      <th>On-board service</th>\n",
              "      <th>Leg room service</th>\n",
              "      <th>Baggage handling</th>\n",
              "      <th>Checkin service</th>\n",
              "      <th>Inflight service</th>\n",
              "      <th>Cleanliness</th>\n",
              "      <th>Departure Delay in Minutes</th>\n",
              "      <th>service</th>\n",
              "      <th>during</th>\n",
              "    </tr>\n",
              "  </thead>\n",
              "  <tbody>\n",
              "    <tr>\n",
              "      <th>5672</th>\n",
              "      <td>5673</td>\n",
              "      <td>0</td>\n",
              "      <td>1</td>\n",
              "      <td>54</td>\n",
              "      <td>0</td>\n",
              "      <td>1</td>\n",
              "      <td>89</td>\n",
              "      <td>5</td>\n",
              "      <td>2</td>\n",
              "      <td>2</td>\n",
              "      <td>...</td>\n",
              "      <td>5</td>\n",
              "      <td>5</td>\n",
              "      <td>5</td>\n",
              "      <td>5</td>\n",
              "      <td>5</td>\n",
              "      <td>5</td>\n",
              "      <td>5</td>\n",
              "      <td>0</td>\n",
              "      <td>38</td>\n",
              "      <td>3382</td>\n",
              "    </tr>\n",
              "    <tr>\n",
              "      <th>3346</th>\n",
              "      <td>3347</td>\n",
              "      <td>0</td>\n",
              "      <td>1</td>\n",
              "      <td>60</td>\n",
              "      <td>0</td>\n",
              "      <td>2</td>\n",
              "      <td>1908</td>\n",
              "      <td>3</td>\n",
              "      <td>3</td>\n",
              "      <td>3</td>\n",
              "      <td>...</td>\n",
              "      <td>4</td>\n",
              "      <td>4</td>\n",
              "      <td>4</td>\n",
              "      <td>4</td>\n",
              "      <td>4</td>\n",
              "      <td>4</td>\n",
              "      <td>3</td>\n",
              "      <td>0</td>\n",
              "      <td>33</td>\n",
              "      <td>62964</td>\n",
              "    </tr>\n",
              "    <tr>\n",
              "      <th>5867</th>\n",
              "      <td>5868</td>\n",
              "      <td>1</td>\n",
              "      <td>1</td>\n",
              "      <td>34</td>\n",
              "      <td>0</td>\n",
              "      <td>2</td>\n",
              "      <td>3264</td>\n",
              "      <td>3</td>\n",
              "      <td>4</td>\n",
              "      <td>4</td>\n",
              "      <td>...</td>\n",
              "      <td>3</td>\n",
              "      <td>3</td>\n",
              "      <td>3</td>\n",
              "      <td>3</td>\n",
              "      <td>1</td>\n",
              "      <td>3</td>\n",
              "      <td>3</td>\n",
              "      <td>57</td>\n",
              "      <td>26</td>\n",
              "      <td>84864</td>\n",
              "    </tr>\n",
              "    <tr>\n",
              "      <th>2322</th>\n",
              "      <td>2323</td>\n",
              "      <td>1</td>\n",
              "      <td>1</td>\n",
              "      <td>52</td>\n",
              "      <td>0</td>\n",
              "      <td>0</td>\n",
              "      <td>1174</td>\n",
              "      <td>1</td>\n",
              "      <td>2</td>\n",
              "      <td>2</td>\n",
              "      <td>...</td>\n",
              "      <td>1</td>\n",
              "      <td>3</td>\n",
              "      <td>4</td>\n",
              "      <td>4</td>\n",
              "      <td>2</td>\n",
              "      <td>3</td>\n",
              "      <td>1</td>\n",
              "      <td>0</td>\n",
              "      <td>17</td>\n",
              "      <td>19958</td>\n",
              "    </tr>\n",
              "    <tr>\n",
              "      <th>5233</th>\n",
              "      <td>5234</td>\n",
              "      <td>0</td>\n",
              "      <td>1</td>\n",
              "      <td>44</td>\n",
              "      <td>0</td>\n",
              "      <td>2</td>\n",
              "      <td>1521</td>\n",
              "      <td>5</td>\n",
              "      <td>5</td>\n",
              "      <td>5</td>\n",
              "      <td>...</td>\n",
              "      <td>5</td>\n",
              "      <td>5</td>\n",
              "      <td>5</td>\n",
              "      <td>5</td>\n",
              "      <td>4</td>\n",
              "      <td>5</td>\n",
              "      <td>5</td>\n",
              "      <td>85</td>\n",
              "      <td>34</td>\n",
              "      <td>51714</td>\n",
              "    </tr>\n",
              "    <tr>\n",
              "      <th>...</th>\n",
              "      <td>...</td>\n",
              "      <td>...</td>\n",
              "      <td>...</td>\n",
              "      <td>...</td>\n",
              "      <td>...</td>\n",
              "      <td>...</td>\n",
              "      <td>...</td>\n",
              "      <td>...</td>\n",
              "      <td>...</td>\n",
              "      <td>...</td>\n",
              "      <td>...</td>\n",
              "      <td>...</td>\n",
              "      <td>...</td>\n",
              "      <td>...</td>\n",
              "      <td>...</td>\n",
              "      <td>...</td>\n",
              "      <td>...</td>\n",
              "      <td>...</td>\n",
              "      <td>...</td>\n",
              "      <td>...</td>\n",
              "      <td>...</td>\n",
              "    </tr>\n",
              "    <tr>\n",
              "      <th>2286</th>\n",
              "      <td>2287</td>\n",
              "      <td>0</td>\n",
              "      <td>1</td>\n",
              "      <td>32</td>\n",
              "      <td>0</td>\n",
              "      <td>0</td>\n",
              "      <td>204</td>\n",
              "      <td>2</td>\n",
              "      <td>2</td>\n",
              "      <td>2</td>\n",
              "      <td>...</td>\n",
              "      <td>2</td>\n",
              "      <td>4</td>\n",
              "      <td>2</td>\n",
              "      <td>4</td>\n",
              "      <td>3</td>\n",
              "      <td>4</td>\n",
              "      <td>2</td>\n",
              "      <td>0</td>\n",
              "      <td>22</td>\n",
              "      <td>4488</td>\n",
              "    </tr>\n",
              "    <tr>\n",
              "      <th>6050</th>\n",
              "      <td>6051</td>\n",
              "      <td>0</td>\n",
              "      <td>1</td>\n",
              "      <td>56</td>\n",
              "      <td>0</td>\n",
              "      <td>2</td>\n",
              "      <td>2139</td>\n",
              "      <td>2</td>\n",
              "      <td>2</td>\n",
              "      <td>2</td>\n",
              "      <td>...</td>\n",
              "      <td>5</td>\n",
              "      <td>5</td>\n",
              "      <td>5</td>\n",
              "      <td>5</td>\n",
              "      <td>5</td>\n",
              "      <td>5</td>\n",
              "      <td>4</td>\n",
              "      <td>3</td>\n",
              "      <td>37</td>\n",
              "      <td>79143</td>\n",
              "    </tr>\n",
              "    <tr>\n",
              "      <th>2538</th>\n",
              "      <td>2539</td>\n",
              "      <td>0</td>\n",
              "      <td>0</td>\n",
              "      <td>30</td>\n",
              "      <td>0</td>\n",
              "      <td>2</td>\n",
              "      <td>992</td>\n",
              "      <td>1</td>\n",
              "      <td>0</td>\n",
              "      <td>0</td>\n",
              "      <td>...</td>\n",
              "      <td>2</td>\n",
              "      <td>4</td>\n",
              "      <td>2</td>\n",
              "      <td>5</td>\n",
              "      <td>3</td>\n",
              "      <td>5</td>\n",
              "      <td>2</td>\n",
              "      <td>0</td>\n",
              "      <td>21</td>\n",
              "      <td>20832</td>\n",
              "    </tr>\n",
              "    <tr>\n",
              "      <th>4877</th>\n",
              "      <td>4878</td>\n",
              "      <td>1</td>\n",
              "      <td>1</td>\n",
              "      <td>20</td>\n",
              "      <td>1</td>\n",
              "      <td>0</td>\n",
              "      <td>867</td>\n",
              "      <td>5</td>\n",
              "      <td>4</td>\n",
              "      <td>5</td>\n",
              "      <td>...</td>\n",
              "      <td>3</td>\n",
              "      <td>4</td>\n",
              "      <td>5</td>\n",
              "      <td>5</td>\n",
              "      <td>3</td>\n",
              "      <td>5</td>\n",
              "      <td>3</td>\n",
              "      <td>31</td>\n",
              "      <td>34</td>\n",
              "      <td>29478</td>\n",
              "    </tr>\n",
              "    <tr>\n",
              "      <th>8908</th>\n",
              "      <td>8909</td>\n",
              "      <td>1</td>\n",
              "      <td>1</td>\n",
              "      <td>31</td>\n",
              "      <td>1</td>\n",
              "      <td>0</td>\n",
              "      <td>1066</td>\n",
              "      <td>3</td>\n",
              "      <td>5</td>\n",
              "      <td>3</td>\n",
              "      <td>...</td>\n",
              "      <td>5</td>\n",
              "      <td>5</td>\n",
              "      <td>2</td>\n",
              "      <td>5</td>\n",
              "      <td>3</td>\n",
              "      <td>4</td>\n",
              "      <td>5</td>\n",
              "      <td>33</td>\n",
              "      <td>31</td>\n",
              "      <td>33046</td>\n",
              "    </tr>\n",
              "  </tbody>\n",
              "</table>\n",
              "<p>2000 rows × 24 columns</p>\n",
              "</div>\n",
              "      <button class=\"colab-df-convert\" onclick=\"convertToInteractive('df-2bed3e95-b06c-45c0-be9c-2dc7e5bc32e1')\"\n",
              "              title=\"Convert this dataframe to an interactive table.\"\n",
              "              style=\"display:none;\">\n",
              "        \n",
              "  <svg xmlns=\"http://www.w3.org/2000/svg\" height=\"24px\"viewBox=\"0 0 24 24\"\n",
              "       width=\"24px\">\n",
              "    <path d=\"M0 0h24v24H0V0z\" fill=\"none\"/>\n",
              "    <path d=\"M18.56 5.44l.94 2.06.94-2.06 2.06-.94-2.06-.94-.94-2.06-.94 2.06-2.06.94zm-11 1L8.5 8.5l.94-2.06 2.06-.94-2.06-.94L8.5 2.5l-.94 2.06-2.06.94zm10 10l.94 2.06.94-2.06 2.06-.94-2.06-.94-.94-2.06-.94 2.06-2.06.94z\"/><path d=\"M17.41 7.96l-1.37-1.37c-.4-.4-.92-.59-1.43-.59-.52 0-1.04.2-1.43.59L10.3 9.45l-7.72 7.72c-.78.78-.78 2.05 0 2.83L4 21.41c.39.39.9.59 1.41.59.51 0 1.02-.2 1.41-.59l7.78-7.78 2.81-2.81c.8-.78.8-2.07 0-2.86zM5.41 20L4 18.59l7.72-7.72 1.47 1.35L5.41 20z\"/>\n",
              "  </svg>\n",
              "      </button>\n",
              "      \n",
              "  <style>\n",
              "    .colab-df-container {\n",
              "      display:flex;\n",
              "      flex-wrap:wrap;\n",
              "      gap: 12px;\n",
              "    }\n",
              "\n",
              "    .colab-df-convert {\n",
              "      background-color: #E8F0FE;\n",
              "      border: none;\n",
              "      border-radius: 50%;\n",
              "      cursor: pointer;\n",
              "      display: none;\n",
              "      fill: #1967D2;\n",
              "      height: 32px;\n",
              "      padding: 0 0 0 0;\n",
              "      width: 32px;\n",
              "    }\n",
              "\n",
              "    .colab-df-convert:hover {\n",
              "      background-color: #E2EBFA;\n",
              "      box-shadow: 0px 1px 2px rgba(60, 64, 67, 0.3), 0px 1px 3px 1px rgba(60, 64, 67, 0.15);\n",
              "      fill: #174EA6;\n",
              "    }\n",
              "\n",
              "    [theme=dark] .colab-df-convert {\n",
              "      background-color: #3B4455;\n",
              "      fill: #D2E3FC;\n",
              "    }\n",
              "\n",
              "    [theme=dark] .colab-df-convert:hover {\n",
              "      background-color: #434B5C;\n",
              "      box-shadow: 0px 1px 3px 1px rgba(0, 0, 0, 0.15);\n",
              "      filter: drop-shadow(0px 1px 2px rgba(0, 0, 0, 0.3));\n",
              "      fill: #FFFFFF;\n",
              "    }\n",
              "  </style>\n",
              "\n",
              "      <script>\n",
              "        const buttonEl =\n",
              "          document.querySelector('#df-2bed3e95-b06c-45c0-be9c-2dc7e5bc32e1 button.colab-df-convert');\n",
              "        buttonEl.style.display =\n",
              "          google.colab.kernel.accessAllowed ? 'block' : 'none';\n",
              "\n",
              "        async function convertToInteractive(key) {\n",
              "          const element = document.querySelector('#df-2bed3e95-b06c-45c0-be9c-2dc7e5bc32e1');\n",
              "          const dataTable =\n",
              "            await google.colab.kernel.invokeFunction('convertToInteractive',\n",
              "                                                     [key], {});\n",
              "          if (!dataTable) return;\n",
              "\n",
              "          const docLinkHtml = 'Like what you see? Visit the ' +\n",
              "            '<a target=\"_blank\" href=https://colab.research.google.com/notebooks/data_table.ipynb>data table notebook</a>'\n",
              "            + ' to learn more about interactive tables.';\n",
              "          element.innerHTML = '';\n",
              "          dataTable['output_type'] = 'display_data';\n",
              "          await google.colab.output.renderOutput(dataTable, element);\n",
              "          const docLink = document.createElement('div');\n",
              "          docLink.innerHTML = docLinkHtml;\n",
              "          element.appendChild(docLink);\n",
              "        }\n",
              "      </script>\n",
              "    </div>\n",
              "  </div>\n",
              "  "
            ]
          },
          "metadata": {},
          "execution_count": 972
        }
      ]
    },
    {
      "cell_type": "code",
      "source": [
        "y_test = test['satisfaction'].copy()\n",
        "y_test"
      ],
      "metadata": {
        "id": "A9MEOtHQTVL3",
        "colab": {
          "base_uri": "https://localhost:8080/"
        },
        "outputId": "3b984ce1-a1d6-4c08-9c1e-bcc79856afa3"
      },
      "execution_count": null,
      "outputs": [
        {
          "output_type": "execute_result",
          "data": {
            "text/plain": [
              "5672    1\n",
              "3346    1\n",
              "5867    0\n",
              "2322    0\n",
              "5233    1\n",
              "       ..\n",
              "2286    0\n",
              "6050    1\n",
              "2538    0\n",
              "4877    1\n",
              "8908    0\n",
              "Name: satisfaction, Length: 2000, dtype: int64"
            ]
          },
          "metadata": {},
          "execution_count": 973
        }
      ]
    },
    {
      "cell_type": "code",
      "source": [
        "X_test_prepared = pipeline.transform(X_test)"
      ],
      "metadata": {
        "id": "64lLoxp9TVJH"
      },
      "execution_count": null,
      "outputs": []
    },
    {
      "cell_type": "code",
      "source": [
        "y_predicted = LR_model.predict(X_test_prepared)"
      ],
      "metadata": {
        "id": "eGHFeQqsdBiX"
      },
      "execution_count": null,
      "outputs": []
    },
    {
      "cell_type": "code",
      "source": [
        "lin_mse = mean_squared_error(y_test, y_predicted)\n",
        "lin_rmse = np.sqrt(lin_mse)\n",
        "print(lin_rmse)"
      ],
      "metadata": {
        "id": "F1sv0JXuHWwC",
        "colab": {
          "base_uri": "https://localhost:8080/"
        },
        "outputId": "750d7e30-2c45-4f89-a4b7-9429183222a6"
      },
      "execution_count": null,
      "outputs": [
        {
          "output_type": "stream",
          "name": "stdout",
          "text": [
            "220.7781761436986\n"
          ]
        }
      ]
    },
    {
      "cell_type": "code",
      "source": [],
      "metadata": {
        "id": "oQ-m4_6XVdOR"
      },
      "execution_count": null,
      "outputs": []
    },
    {
      "cell_type": "code",
      "source": [],
      "metadata": {
        "id": "2TRktRM3VdKe"
      },
      "execution_count": null,
      "outputs": []
    },
    {
      "cell_type": "code",
      "source": [],
      "metadata": {
        "id": "PkvR-r8mVdHy"
      },
      "execution_count": null,
      "outputs": []
    },
    {
      "cell_type": "code",
      "source": [],
      "metadata": {
        "id": "suIY0xFTVdE0"
      },
      "execution_count": null,
      "outputs": []
    },
    {
      "cell_type": "code",
      "source": [],
      "metadata": {
        "id": "kljsxSf7VNSZ"
      },
      "execution_count": null,
      "outputs": []
    },
    {
      "cell_type": "code",
      "source": [],
      "metadata": {
        "id": "Q6gl8mliVNL7"
      },
      "execution_count": null,
      "outputs": []
    },
    {
      "cell_type": "code",
      "source": [],
      "metadata": {
        "id": "4yBu2iBbVNIz"
      },
      "execution_count": null,
      "outputs": []
    },
    {
      "cell_type": "code",
      "source": [],
      "metadata": {
        "id": "jT0pIaYEVNGI"
      },
      "execution_count": null,
      "outputs": []
    },
    {
      "cell_type": "code",
      "source": [],
      "metadata": {
        "id": "GECKGzSNVNDO"
      },
      "execution_count": null,
      "outputs": []
    },
    {
      "cell_type": "code",
      "source": [],
      "metadata": {
        "id": "V0pvyPdFzpR1"
      },
      "execution_count": null,
      "outputs": []
    },
    {
      "cell_type": "code",
      "source": [],
      "metadata": {
        "id": "tVE9W0SNzpOt"
      },
      "execution_count": null,
      "outputs": []
    },
    {
      "cell_type": "code",
      "source": [],
      "metadata": {
        "id": "WaWWkqtrzpLP"
      },
      "execution_count": null,
      "outputs": []
    },
    {
      "cell_type": "code",
      "source": [],
      "metadata": {
        "id": "Fk2m7L6NzpIE"
      },
      "execution_count": null,
      "outputs": []
    },
    {
      "cell_type": "code",
      "source": [],
      "metadata": {
        "id": "snzyA3eWzpEW"
      },
      "execution_count": null,
      "outputs": []
    },
    {
      "cell_type": "code",
      "source": [],
      "metadata": {
        "id": "KPPS6WywzpBE"
      },
      "execution_count": null,
      "outputs": []
    },
    {
      "cell_type": "code",
      "source": [
        "# satis.info()"
      ],
      "metadata": {
        "id": "2UPeJZqJiPga"
      },
      "execution_count": null,
      "outputs": []
    },
    {
      "cell_type": "code",
      "source": [
        "test.info()"
      ],
      "metadata": {
        "id": "GbH4jrC7FS8n",
        "colab": {
          "base_uri": "https://localhost:8080/"
        },
        "outputId": "7d948334-6580-4b2b-e612-14a475eb1045"
      },
      "execution_count": null,
      "outputs": [
        {
          "output_type": "stream",
          "name": "stdout",
          "text": [
            "<class 'pandas.core.frame.DataFrame'>\n",
            "Int64Index: 2000 entries, 5672 to 8908\n",
            "Data columns (total 25 columns):\n",
            " #   Column                             Non-Null Count  Dtype\n",
            "---  ------                             --------------  -----\n",
            " 0   id                                 2000 non-null   int64\n",
            " 1   Gender                             2000 non-null   int64\n",
            " 2   Customer Type                      2000 non-null   int64\n",
            " 3   Age                                2000 non-null   int64\n",
            " 4   Type of Travel                     2000 non-null   int64\n",
            " 5   Class                              2000 non-null   int64\n",
            " 6   Flight Distance                    2000 non-null   int64\n",
            " 7   Inflight wifi service              2000 non-null   int64\n",
            " 8   Departure/Arrival time convenient  2000 non-null   int64\n",
            " 9   Ease of Online booking             2000 non-null   int64\n",
            " 10  Gate location                      2000 non-null   int64\n",
            " 11  Food and drink                     2000 non-null   int64\n",
            " 12  Online boarding                    2000 non-null   int64\n",
            " 13  Seat comfort                       2000 non-null   int64\n",
            " 14  Inflight entertainment             2000 non-null   int64\n",
            " 15  On-board service                   2000 non-null   int64\n",
            " 16  Leg room service                   2000 non-null   int64\n",
            " 17  Baggage handling                   2000 non-null   int64\n",
            " 18  Checkin service                    2000 non-null   int64\n",
            " 19  Inflight service                   2000 non-null   int64\n",
            " 20  Cleanliness                        2000 non-null   int64\n",
            " 21  Departure Delay in Minutes         2000 non-null   int64\n",
            " 22  satisfaction                       2000 non-null   int64\n",
            " 23  service                            2000 non-null   int64\n",
            " 24  during                             2000 non-null   int64\n",
            "dtypes: int64(25)\n",
            "memory usage: 406.2 KB\n"
          ]
        }
      ]
    },
    {
      "cell_type": "markdown",
      "source": [
        "test['service'] = test['Inflight wifi service']+test['Inflight service']+test['Checkin service']+test['Leg room service']+test['On-board service']+test['Seat comfort']+test['Cleanliness']+test['Online boarding']+test['Class']+test['Customer Type']\n",
        "test['during'] = test['Flight Distance']*test['service']"
      ],
      "metadata": {
        "id": "tF9XLH37FskV"
      }
    },
    {
      "cell_type": "code",
      "source": [
        "customer_in, class_in, flight_in, wifi_in, online_in, seat_in, onboard_in, leg_in, checkin_in, inflight_in, clean_in, service_in, during_in = 2, 5, 6, 7, 12, 13, 15, 16, 18, 19, 20, 24, 25\n",
        "\n",
        "class CombinedAttributesAdder(BaseEstimator, TransformerMixin):\n",
        "    def __init__(self, flight_n_service=True):\n",
        "        self.flight_n_service = flight_n_service\n",
        "    def fit(self, X, y=None):\n",
        "        return self\n",
        "    def transform(self, X):\n",
        "        service = X[:,customer_in] + X[:,class_in] + X[:,wifi_in] + X[:,online_in] + X[:,seat_in]+ X[:,onboard_in] + X[:,leg_in] + X[:,checkin_in] + X[:,inflight_in] + X[:,clean_in]\n",
        "        during = X[:,flight_in] * X[:,service_in]\n",
        "        return np.c_[X, service, during]"
      ],
      "metadata": {
        "id": "W8MP_wVeFLiE"
      },
      "execution_count": null,
      "outputs": []
    },
    {
      "cell_type": "markdown",
      "source": [
        "DecisionTree"
      ],
      "metadata": {
        "id": "6-8d9VBIIqIi"
      }
    },
    {
      "cell_type": "code",
      "source": [
        "Tree_model = DecisionTreeRegressor()\n",
        "Tree_model.fit(prepared, satis_labels)"
      ],
      "metadata": {
        "id": "sxdJaYPMHkmY",
        "colab": {
          "base_uri": "https://localhost:8080/"
        },
        "outputId": "4131fb02-96f1-4f1b-8643-90f531551e70"
      },
      "execution_count": null,
      "outputs": [
        {
          "output_type": "execute_result",
          "data": {
            "text/plain": [
              "DecisionTreeRegressor()"
            ]
          },
          "metadata": {},
          "execution_count": 980
        }
      ]
    },
    {
      "cell_type": "code",
      "source": [
        "y_predicted = Tree_model.predict(X_test_prepared)"
      ],
      "metadata": {
        "id": "M2IvhsYhIbbo"
      },
      "execution_count": null,
      "outputs": []
    },
    {
      "cell_type": "code",
      "source": [
        "lin_mse = mean_squared_error(y_test, y_predicted)\n",
        "lin_rmse = np.sqrt(lin_mse)\n",
        "print(f'accuracy: {1-lin_rmse}')"
      ],
      "metadata": {
        "id": "zsEW4Fk7IbeO",
        "colab": {
          "base_uri": "https://localhost:8080/"
        },
        "outputId": "466b4214-1ad2-4449-8f36-5f0c53b9f1a5"
      },
      "execution_count": null,
      "outputs": [
        {
          "output_type": "stream",
          "name": "stdout",
          "text": [
            "accuracy: 0.8460823272005453\n"
          ]
        }
      ]
    },
    {
      "cell_type": "markdown",
      "source": [
        "RandomForest"
      ],
      "metadata": {
        "id": "96X4LovTIwJX"
      }
    },
    {
      "cell_type": "code",
      "source": [
        "RF_model = RandomForestRegressor()\n",
        "RF_model.fit(prepared, satis_labels)"
      ],
      "metadata": {
        "id": "3H4GMYtuIbgx",
        "colab": {
          "base_uri": "https://localhost:8080/"
        },
        "outputId": "aba3136c-1d24-4061-b1e6-1ad47f9aa65a"
      },
      "execution_count": null,
      "outputs": [
        {
          "output_type": "execute_result",
          "data": {
            "text/plain": [
              "RandomForestRegressor()"
            ]
          },
          "metadata": {},
          "execution_count": 983
        }
      ]
    },
    {
      "cell_type": "code",
      "source": [
        "y_predicted = RF_model.predict(X_test_prepared)\n",
        "lin_mse = mean_squared_error(y_test, y_predicted)\n",
        "lin_rmse = np.sqrt(lin_mse)\n",
        "print(lin_rmse)"
      ],
      "metadata": {
        "id": "WZvlPE77IbjQ",
        "colab": {
          "base_uri": "https://localhost:8080/"
        },
        "outputId": "250876d1-27be-4159-b7b3-87744623b6d2"
      },
      "execution_count": null,
      "outputs": [
        {
          "output_type": "stream",
          "name": "stdout",
          "text": [
            "0.1539176727994547\n"
          ]
        }
      ]
    },
    {
      "cell_type": "markdown",
      "source": [
        "Cross-Validation"
      ],
      "metadata": {
        "id": "_6Z0vmwqJR6a"
      }
    },
    {
      "cell_type": "code",
      "source": [
        "df.info()"
      ],
      "metadata": {
        "id": "Y0oEj0aILkeX",
        "colab": {
          "base_uri": "https://localhost:8080/"
        },
        "outputId": "32be23e6-599b-4344-d87c-d55bff560e5a"
      },
      "execution_count": null,
      "outputs": [
        {
          "output_type": "stream",
          "name": "stdout",
          "text": [
            "<class 'pandas.core.frame.DataFrame'>\n",
            "RangeIndex: 10000 entries, 0 to 9999\n",
            "Data columns (total 24 columns):\n",
            " #   Column                             Non-Null Count  Dtype   \n",
            "---  ------                             --------------  -----   \n",
            " 0   id                                 10000 non-null  int64   \n",
            " 1   Gender                             10000 non-null  int64   \n",
            " 2   Customer Type                      10000 non-null  int64   \n",
            " 3   Age                                10000 non-null  int64   \n",
            " 4   Type of Travel                     10000 non-null  int64   \n",
            " 5   Class                              10000 non-null  int64   \n",
            " 6   Flight Distance                    10000 non-null  int64   \n",
            " 7   Inflight wifi service              10000 non-null  int64   \n",
            " 8   Departure/Arrival time convenient  10000 non-null  int64   \n",
            " 9   Ease of Online booking             10000 non-null  int64   \n",
            " 10  Gate location                      10000 non-null  int64   \n",
            " 11  Food and drink                     10000 non-null  int64   \n",
            " 12  Online boarding                    10000 non-null  int64   \n",
            " 13  Seat comfort                       10000 non-null  int64   \n",
            " 14  Inflight entertainment             10000 non-null  int64   \n",
            " 15  On-board service                   10000 non-null  int64   \n",
            " 16  Leg room service                   10000 non-null  int64   \n",
            " 17  Baggage handling                   10000 non-null  int64   \n",
            " 18  Checkin service                    10000 non-null  int64   \n",
            " 19  Inflight service                   10000 non-null  int64   \n",
            " 20  Cleanliness                        10000 non-null  int64   \n",
            " 21  Departure Delay in Minutes         10000 non-null  int64   \n",
            " 22  satisfaction                       10000 non-null  int64   \n",
            " 23  distance_cat                       10000 non-null  category\n",
            "dtypes: category(1), int64(23)\n",
            "memory usage: 1.8 MB\n"
          ]
        }
      ]
    },
    {
      "cell_type": "code",
      "source": [
        "X = df.drop('satisfaction', axis=1)\n",
        "y = df['satisfaction'].copy()\n",
        "\n",
        "X_prepared = pipeline.transform(X)"
      ],
      "metadata": {
        "id": "0YjqD6KTIbmA",
        "colab": {
          "base_uri": "https://localhost:8080/",
          "height": 504
        },
        "outputId": "1770a045-7cba-4cb6-f445-1eea1c1c1201"
      },
      "execution_count": null,
      "outputs": [
        {
          "output_type": "stream",
          "name": "stderr",
          "text": [
            "/usr/local/lib/python3.8/dist-packages/sklearn/base.py:493: FutureWarning: The feature names should match those that were passed during fit. Starting version 1.2, an error will be raised.\n",
            "Feature names unseen at fit time:\n",
            "- distance_cat\n",
            "Feature names seen at fit time, yet now missing:\n",
            "- during\n",
            "- service\n",
            "\n",
            "  warnings.warn(message, FutureWarning)\n"
          ]
        },
        {
          "output_type": "error",
          "ename": "ValueError",
          "evalue": "ignored",
          "traceback": [
            "\u001b[0;31m---------------------------------------------------------------------------\u001b[0m",
            "\u001b[0;31mValueError\u001b[0m                                Traceback (most recent call last)",
            "\u001b[0;32m<ipython-input-986-63957c20a5b8>\u001b[0m in \u001b[0;36m<module>\u001b[0;34m\u001b[0m\n\u001b[1;32m      2\u001b[0m \u001b[0my\u001b[0m \u001b[0;34m=\u001b[0m \u001b[0mdf\u001b[0m\u001b[0;34m[\u001b[0m\u001b[0;34m'satisfaction'\u001b[0m\u001b[0;34m]\u001b[0m\u001b[0;34m.\u001b[0m\u001b[0mcopy\u001b[0m\u001b[0;34m(\u001b[0m\u001b[0;34m)\u001b[0m\u001b[0;34m\u001b[0m\u001b[0;34m\u001b[0m\u001b[0m\n\u001b[1;32m      3\u001b[0m \u001b[0;34m\u001b[0m\u001b[0m\n\u001b[0;32m----> 4\u001b[0;31m \u001b[0mX_prepared\u001b[0m \u001b[0;34m=\u001b[0m \u001b[0mpipeline\u001b[0m\u001b[0;34m.\u001b[0m\u001b[0mtransform\u001b[0m\u001b[0;34m(\u001b[0m\u001b[0mX\u001b[0m\u001b[0;34m)\u001b[0m\u001b[0;34m\u001b[0m\u001b[0;34m\u001b[0m\u001b[0m\n\u001b[0m",
            "\u001b[0;32m/usr/local/lib/python3.8/dist-packages/sklearn/utils/metaestimators.py\u001b[0m in \u001b[0;36m<lambda>\u001b[0;34m(*args, **kwargs)\u001b[0m\n\u001b[1;32m    111\u001b[0m \u001b[0;34m\u001b[0m\u001b[0m\n\u001b[1;32m    112\u001b[0m             \u001b[0;31m# lambda, but not partial, allows help() to work with update_wrapper\u001b[0m\u001b[0;34m\u001b[0m\u001b[0;34m\u001b[0m\u001b[0;34m\u001b[0m\u001b[0m\n\u001b[0;32m--> 113\u001b[0;31m             \u001b[0mout\u001b[0m \u001b[0;34m=\u001b[0m \u001b[0;32mlambda\u001b[0m \u001b[0;34m*\u001b[0m\u001b[0margs\u001b[0m\u001b[0;34m,\u001b[0m \u001b[0;34m**\u001b[0m\u001b[0mkwargs\u001b[0m\u001b[0;34m:\u001b[0m \u001b[0mself\u001b[0m\u001b[0;34m.\u001b[0m\u001b[0mfn\u001b[0m\u001b[0;34m(\u001b[0m\u001b[0mobj\u001b[0m\u001b[0;34m,\u001b[0m \u001b[0;34m*\u001b[0m\u001b[0margs\u001b[0m\u001b[0;34m,\u001b[0m \u001b[0;34m**\u001b[0m\u001b[0mkwargs\u001b[0m\u001b[0;34m)\u001b[0m  \u001b[0;31m# noqa\u001b[0m\u001b[0;34m\u001b[0m\u001b[0;34m\u001b[0m\u001b[0m\n\u001b[0m\u001b[1;32m    114\u001b[0m         \u001b[0;32melse\u001b[0m\u001b[0;34m:\u001b[0m\u001b[0;34m\u001b[0m\u001b[0;34m\u001b[0m\u001b[0m\n\u001b[1;32m    115\u001b[0m \u001b[0;34m\u001b[0m\u001b[0m\n",
            "\u001b[0;32m/usr/local/lib/python3.8/dist-packages/sklearn/pipeline.py\u001b[0m in \u001b[0;36mtransform\u001b[0;34m(self, X)\u001b[0m\n\u001b[1;32m    645\u001b[0m         \u001b[0mXt\u001b[0m \u001b[0;34m=\u001b[0m \u001b[0mX\u001b[0m\u001b[0;34m\u001b[0m\u001b[0;34m\u001b[0m\u001b[0m\n\u001b[1;32m    646\u001b[0m         \u001b[0;32mfor\u001b[0m \u001b[0m_\u001b[0m\u001b[0;34m,\u001b[0m \u001b[0m_\u001b[0m\u001b[0;34m,\u001b[0m \u001b[0mtransform\u001b[0m \u001b[0;32min\u001b[0m \u001b[0mself\u001b[0m\u001b[0;34m.\u001b[0m\u001b[0m_iter\u001b[0m\u001b[0;34m(\u001b[0m\u001b[0;34m)\u001b[0m\u001b[0;34m:\u001b[0m\u001b[0;34m\u001b[0m\u001b[0;34m\u001b[0m\u001b[0m\n\u001b[0;32m--> 647\u001b[0;31m             \u001b[0mXt\u001b[0m \u001b[0;34m=\u001b[0m \u001b[0mtransform\u001b[0m\u001b[0;34m.\u001b[0m\u001b[0mtransform\u001b[0m\u001b[0;34m(\u001b[0m\u001b[0mXt\u001b[0m\u001b[0;34m)\u001b[0m\u001b[0;34m\u001b[0m\u001b[0;34m\u001b[0m\u001b[0m\n\u001b[0m\u001b[1;32m    648\u001b[0m         \u001b[0;32mreturn\u001b[0m \u001b[0mXt\u001b[0m\u001b[0;34m\u001b[0m\u001b[0;34m\u001b[0m\u001b[0m\n\u001b[1;32m    649\u001b[0m \u001b[0;34m\u001b[0m\u001b[0m\n",
            "\u001b[0;32m/usr/local/lib/python3.8/dist-packages/sklearn/impute/_base.py\u001b[0m in \u001b[0;36mtransform\u001b[0;34m(self, X)\u001b[0m\n\u001b[1;32m    468\u001b[0m         \u001b[0mcheck_is_fitted\u001b[0m\u001b[0;34m(\u001b[0m\u001b[0mself\u001b[0m\u001b[0;34m)\u001b[0m\u001b[0;34m\u001b[0m\u001b[0;34m\u001b[0m\u001b[0m\n\u001b[1;32m    469\u001b[0m \u001b[0;34m\u001b[0m\u001b[0m\n\u001b[0;32m--> 470\u001b[0;31m         \u001b[0mX\u001b[0m \u001b[0;34m=\u001b[0m \u001b[0mself\u001b[0m\u001b[0;34m.\u001b[0m\u001b[0m_validate_input\u001b[0m\u001b[0;34m(\u001b[0m\u001b[0mX\u001b[0m\u001b[0;34m,\u001b[0m \u001b[0min_fit\u001b[0m\u001b[0;34m=\u001b[0m\u001b[0;32mFalse\u001b[0m\u001b[0;34m)\u001b[0m\u001b[0;34m\u001b[0m\u001b[0;34m\u001b[0m\u001b[0m\n\u001b[0m\u001b[1;32m    471\u001b[0m         \u001b[0mstatistics\u001b[0m \u001b[0;34m=\u001b[0m \u001b[0mself\u001b[0m\u001b[0;34m.\u001b[0m\u001b[0mstatistics_\u001b[0m\u001b[0;34m\u001b[0m\u001b[0;34m\u001b[0m\u001b[0m\n\u001b[1;32m    472\u001b[0m \u001b[0;34m\u001b[0m\u001b[0m\n",
            "\u001b[0;32m/usr/local/lib/python3.8/dist-packages/sklearn/impute/_base.py\u001b[0m in \u001b[0;36m_validate_input\u001b[0;34m(self, X, in_fit)\u001b[0m\n\u001b[1;32m    285\u001b[0m                 \u001b[0;32mraise\u001b[0m \u001b[0mnew_ve\u001b[0m \u001b[0;32mfrom\u001b[0m \u001b[0;32mNone\u001b[0m\u001b[0;34m\u001b[0m\u001b[0;34m\u001b[0m\u001b[0m\n\u001b[1;32m    286\u001b[0m             \u001b[0;32melse\u001b[0m\u001b[0;34m:\u001b[0m\u001b[0;34m\u001b[0m\u001b[0;34m\u001b[0m\u001b[0m\n\u001b[0;32m--> 287\u001b[0;31m                 \u001b[0;32mraise\u001b[0m \u001b[0mve\u001b[0m\u001b[0;34m\u001b[0m\u001b[0;34m\u001b[0m\u001b[0m\n\u001b[0m\u001b[1;32m    288\u001b[0m \u001b[0;34m\u001b[0m\u001b[0m\n\u001b[1;32m    289\u001b[0m         \u001b[0m_check_inputs_dtype\u001b[0m\u001b[0;34m(\u001b[0m\u001b[0mX\u001b[0m\u001b[0;34m,\u001b[0m \u001b[0mself\u001b[0m\u001b[0;34m.\u001b[0m\u001b[0mmissing_values\u001b[0m\u001b[0;34m)\u001b[0m\u001b[0;34m\u001b[0m\u001b[0;34m\u001b[0m\u001b[0m\n",
            "\u001b[0;32m/usr/local/lib/python3.8/dist-packages/sklearn/impute/_base.py\u001b[0m in \u001b[0;36m_validate_input\u001b[0;34m(self, X, in_fit)\u001b[0m\n\u001b[1;32m    268\u001b[0m \u001b[0;34m\u001b[0m\u001b[0m\n\u001b[1;32m    269\u001b[0m         \u001b[0;32mtry\u001b[0m\u001b[0;34m:\u001b[0m\u001b[0;34m\u001b[0m\u001b[0;34m\u001b[0m\u001b[0m\n\u001b[0;32m--> 270\u001b[0;31m             X = self._validate_data(\n\u001b[0m\u001b[1;32m    271\u001b[0m                 \u001b[0mX\u001b[0m\u001b[0;34m,\u001b[0m\u001b[0;34m\u001b[0m\u001b[0;34m\u001b[0m\u001b[0m\n\u001b[1;32m    272\u001b[0m                 \u001b[0mreset\u001b[0m\u001b[0;34m=\u001b[0m\u001b[0min_fit\u001b[0m\u001b[0;34m,\u001b[0m\u001b[0;34m\u001b[0m\u001b[0;34m\u001b[0m\u001b[0m\n",
            "\u001b[0;32m/usr/local/lib/python3.8/dist-packages/sklearn/base.py\u001b[0m in \u001b[0;36m_validate_data\u001b[0;34m(self, X, y, reset, validate_separately, **check_params)\u001b[0m\n\u001b[1;32m    583\u001b[0m \u001b[0;34m\u001b[0m\u001b[0m\n\u001b[1;32m    584\u001b[0m         \u001b[0;32mif\u001b[0m \u001b[0;32mnot\u001b[0m \u001b[0mno_val_X\u001b[0m \u001b[0;32mand\u001b[0m \u001b[0mcheck_params\u001b[0m\u001b[0;34m.\u001b[0m\u001b[0mget\u001b[0m\u001b[0;34m(\u001b[0m\u001b[0;34m\"ensure_2d\"\u001b[0m\u001b[0;34m,\u001b[0m \u001b[0;32mTrue\u001b[0m\u001b[0;34m)\u001b[0m\u001b[0;34m:\u001b[0m\u001b[0;34m\u001b[0m\u001b[0;34m\u001b[0m\u001b[0m\n\u001b[0;32m--> 585\u001b[0;31m             \u001b[0mself\u001b[0m\u001b[0;34m.\u001b[0m\u001b[0m_check_n_features\u001b[0m\u001b[0;34m(\u001b[0m\u001b[0mX\u001b[0m\u001b[0;34m,\u001b[0m \u001b[0mreset\u001b[0m\u001b[0;34m=\u001b[0m\u001b[0mreset\u001b[0m\u001b[0;34m)\u001b[0m\u001b[0;34m\u001b[0m\u001b[0;34m\u001b[0m\u001b[0m\n\u001b[0m\u001b[1;32m    586\u001b[0m \u001b[0;34m\u001b[0m\u001b[0m\n\u001b[1;32m    587\u001b[0m         \u001b[0;32mreturn\u001b[0m \u001b[0mout\u001b[0m\u001b[0;34m\u001b[0m\u001b[0;34m\u001b[0m\u001b[0m\n",
            "\u001b[0;32m/usr/local/lib/python3.8/dist-packages/sklearn/base.py\u001b[0m in \u001b[0;36m_check_n_features\u001b[0;34m(self, X, reset)\u001b[0m\n\u001b[1;32m    398\u001b[0m \u001b[0;34m\u001b[0m\u001b[0m\n\u001b[1;32m    399\u001b[0m         \u001b[0;32mif\u001b[0m \u001b[0mn_features\u001b[0m \u001b[0;34m!=\u001b[0m \u001b[0mself\u001b[0m\u001b[0;34m.\u001b[0m\u001b[0mn_features_in_\u001b[0m\u001b[0;34m:\u001b[0m\u001b[0;34m\u001b[0m\u001b[0;34m\u001b[0m\u001b[0m\n\u001b[0;32m--> 400\u001b[0;31m             raise ValueError(\n\u001b[0m\u001b[1;32m    401\u001b[0m                 \u001b[0;34mf\"X has {n_features} features, but {self.__class__.__name__} \"\u001b[0m\u001b[0;34m\u001b[0m\u001b[0;34m\u001b[0m\u001b[0m\n\u001b[1;32m    402\u001b[0m                 \u001b[0;34mf\"is expecting {self.n_features_in_} features as input.\"\u001b[0m\u001b[0;34m\u001b[0m\u001b[0;34m\u001b[0m\u001b[0m\n",
            "\u001b[0;31mValueError\u001b[0m: X has 23 features, but SimpleImputer is expecting 24 features as input."
          ]
        }
      ]
    },
    {
      "cell_type": "code",
      "source": [],
      "metadata": {
        "id": "enC4HyHBIbos"
      },
      "execution_count": null,
      "outputs": []
    }
  ]
}